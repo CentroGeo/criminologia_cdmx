{
 "cells": [
  {
   "cell_type": "code",
   "execution_count": null,
   "id": "7dd6fb1d-5ae4-4539-8958-32fdfe483cd5",
   "metadata": {},
   "outputs": [],
   "source": [
    "# default_exp covariables"
   ]
  },
  {
   "cell_type": "markdown",
   "id": "d99d9eca-fab4-4c5c-84cb-2f6e2dabab1a",
   "metadata": {},
   "source": [
    "# modelos\n",
    "\n",
    "> Herramientas de ajuste, validación y evaluación de modelos"
   ]
  },
  {
   "cell_type": "code",
   "execution_count": null,
   "id": "a4f1ed2e-abfa-4684-9cbc-9cfe96da5c44",
   "metadata": {},
   "outputs": [],
   "source": [
    "#hide\n",
    "from nbdev.showdoc import *"
   ]
  },
  {
   "cell_type": "code",
   "execution_count": null,
   "id": "63d011ee-3ba4-41cc-8a80-79352e8e2573",
   "metadata": {},
   "outputs": [],
   "source": [
    "import numpy as np\n",
    "import pandas as pd\n",
    "import geopandas as gpd\n",
    "from criminologia_cdmx.etl import *\n",
    "from criminologia_cdmx. covariables import *"
   ]
  },
  {
   "cell_type": "markdown",
   "id": "5de2ee8d-4713-4a5b-8a58-e01f5fe8f723",
   "metadata": {},
   "source": [
    "## variable_independiente"
   ]
  },
  {
   "cell_type": "code",
   "execution_count": null,
   "id": "2e1286bf-5bcd-4665-8b53-69a53bf482b2",
   "metadata": {},
   "outputs": [],
   "source": [
    "def variable_independiente(datos, columna_y, valor_y, fecha_inicio, fecha_fin, agregacion='colonias'):\n",
    "    \"\"\" Regresa un DataFrame con la variable independicente agregada entre fecha_inicio y fecha_fin\n",
    "        en las unidades requeridas.\n",
    "        \n",
    "        Args:\n",
    "            datos (DataFrame): carpetas/victimas con ids espaciales y categorías de usuario\n",
    "            columna_y (str): Nombre de la columna en donde vienen los incidentes de valor_y\n",
    "            valor_y (str): delito o categoría a utilizar como Y\n",
    "            fecha_inicio (str): fecha inicial para agregar delitos \"d-m-Y\"\n",
    "            fecha_fin (str): fecha final para agregar delitos \"d-m-Y\"\n",
    "            agregacion (str): colonias/cuadrantes. Eventualmente debe recibir \n",
    "             agregaciones arbitrarias\n",
    "    \"\"\"\n",
    "    fecha_inicio = pd.to_datetime(fecha_inicio, dayfirst=True)\n",
    "    fecha_fin = pd.to_datetime(fecha_fin, dayfirst=True)\n",
    "    datos = datos.loc[datos['fecha_hechos'].between(fecha_inicio, fecha_fin)]\n",
    "    datos = datos.loc[datos[columna_y] == valor_y]\n",
    "    if agregacion == 'colonias':\n",
    "        columna_agrega = 'colonia_cve'\n",
    "        layer = 'colonias'\n",
    "    elif agregacion == 'cuadrantes':\n",
    "        columna_agrega = 'cuadrante_id'\n",
    "        layer = 'cuadrantes'\n",
    "    else:\n",
    "        raise ValueError(\"unidades debe ser 'colonias' o 'cuadrantes'\")\n",
    "    datos = datos.groupby(columna_agrega).size()\n",
    "    datos.name = valor_y\n",
    "    unidades = gpd.read_file(\"datos/criminologia_capas.gpkg\", layer=layer)\n",
    "    datos = unidades[[columna_agrega]].merge(datos, on=columna_agrega, how='left').fillna(0)\n",
    "    return datos   "
   ]
  },
  {
   "cell_type": "code",
   "execution_count": null,
   "id": "2ca70794-7c50-4095-b3e7-5238e36467fa",
   "metadata": {},
   "outputs": [
    {
     "data": {
      "text/html": [
       "<div>\n",
       "<style scoped>\n",
       "    .dataframe tbody tr th:only-of-type {\n",
       "        vertical-align: middle;\n",
       "    }\n",
       "\n",
       "    .dataframe tbody tr th {\n",
       "        vertical-align: top;\n",
       "    }\n",
       "\n",
       "    .dataframe thead th {\n",
       "        text-align: right;\n",
       "    }\n",
       "</style>\n",
       "<table border=\"1\" class=\"dataframe\">\n",
       "  <thead>\n",
       "    <tr style=\"text-align: right;\">\n",
       "      <th></th>\n",
       "      <th>cuadrante_id</th>\n",
       "      <th>ROBO A CASA HABITACION SIN VIOLENCIA</th>\n",
       "    </tr>\n",
       "  </thead>\n",
       "  <tbody>\n",
       "    <tr>\n",
       "      <th>0</th>\n",
       "      <td>018</td>\n",
       "      <td>31.0</td>\n",
       "    </tr>\n",
       "    <tr>\n",
       "      <th>1</th>\n",
       "      <td>0110</td>\n",
       "      <td>28.0</td>\n",
       "    </tr>\n",
       "    <tr>\n",
       "      <th>2</th>\n",
       "      <td>014</td>\n",
       "      <td>40.0</td>\n",
       "    </tr>\n",
       "    <tr>\n",
       "      <th>3</th>\n",
       "      <td>015</td>\n",
       "      <td>34.0</td>\n",
       "    </tr>\n",
       "    <tr>\n",
       "      <th>4</th>\n",
       "      <td>018</td>\n",
       "      <td>31.0</td>\n",
       "    </tr>\n",
       "    <tr>\n",
       "      <th>...</th>\n",
       "      <td>...</td>\n",
       "      <td>...</td>\n",
       "    </tr>\n",
       "    <tr>\n",
       "      <th>842</th>\n",
       "      <td>043</td>\n",
       "      <td>15.0</td>\n",
       "    </tr>\n",
       "    <tr>\n",
       "      <th>843</th>\n",
       "      <td>046</td>\n",
       "      <td>12.0</td>\n",
       "    </tr>\n",
       "    <tr>\n",
       "      <th>844</th>\n",
       "      <td>045</td>\n",
       "      <td>15.0</td>\n",
       "    </tr>\n",
       "    <tr>\n",
       "      <th>845</th>\n",
       "      <td>038</td>\n",
       "      <td>10.0</td>\n",
       "    </tr>\n",
       "    <tr>\n",
       "      <th>846</th>\n",
       "      <td>036</td>\n",
       "      <td>9.0</td>\n",
       "    </tr>\n",
       "  </tbody>\n",
       "</table>\n",
       "<p>847 rows × 2 columns</p>\n",
       "</div>"
      ],
      "text/plain": [
       "    cuadrante_id  ROBO A CASA HABITACION SIN VIOLENCIA\n",
       "0            018                                  31.0\n",
       "1           0110                                  28.0\n",
       "2            014                                  40.0\n",
       "3            015                                  34.0\n",
       "4            018                                  31.0\n",
       "..           ...                                   ...\n",
       "842          043                                  15.0\n",
       "843          046                                  12.0\n",
       "844          045                                  15.0\n",
       "845          038                                  10.0\n",
       "846          036                                   9.0\n",
       "\n",
       "[847 rows x 2 columns]"
      ]
     },
     "execution_count": null,
     "metadata": {},
     "output_type": "execute_result"
    }
   ],
   "source": [
    "carpetas = get_carpetas_from_api(100000)\n",
    "carpetas = agrega_ids_espaciales(carpetas)\n",
    "fecha_inicio = carpetas.fecha_hechos.min().strftime(\"%d-%m.%Y\")\n",
    "fecha_fin = carpetas.fecha_hechos.max().strftime(\"%d-%m.%Y\")\n",
    "delito = 'ROBO A CASA HABITACION SIN VIOLENCIA'\n",
    "Y = variable_independiente(carpetas, 'delito', delito, fecha_inicio, fecha_fin)\n",
    "assert delito in Y.columns\n",
    "Y = variable_independiente(carpetas, 'delito', delito, fecha_inicio, fecha_fin, \n",
    "                           agregacion='cuadrantes')\n",
    "assert delito in Y.columns\n",
    "Y"
   ]
  },
  {
   "cell_type": "code",
   "execution_count": null,
   "id": "cf3d55c6-4a17-41b0-9053-11fd21610e2b",
   "metadata": {},
   "outputs": [],
   "source": []
  }
 ],
 "metadata": {
  "kernelspec": {
   "display_name": "Python 3 (ipykernel)",
   "language": "python",
   "name": "python3"
  }
 },
 "nbformat": 4,
 "nbformat_minor": 5
}
