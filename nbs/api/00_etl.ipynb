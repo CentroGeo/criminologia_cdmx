{
 "cells": [
  {
   "cell_type": "markdown",
   "metadata": {},
   "source": [
    "# etl\n",
    "\n",
    "> Extraer y transformar fuentes de datos sobre delincuencia en CDMX "
   ]
  },
  {
   "cell_type": "code",
   "execution_count": 1,
   "metadata": {},
   "outputs": [],
   "source": [
    "#| default_exp etl"
   ]
  },
  {
   "cell_type": "code",
   "execution_count": 2,
   "metadata": {},
   "outputs": [],
   "source": [
    "#| include: false\n",
    "from nbdev.showdoc import *"
   ]
  },
  {
   "cell_type": "code",
   "execution_count": 3,
   "metadata": {},
   "outputs": [],
   "source": [
    "#| export\n",
    "import os\n",
    "import glob\n",
    "import itertools\n",
    "from typing import Union\n",
    "from pathlib import Path\n",
    "import numpy as np\n",
    "import pandas as pd\n",
    "import geopandas as gpd\n",
    "from datetime import timedelta, date, datetime\n",
    "import seaborn as sns\n",
    "import requests\n",
    "import h3\n",
    "from shapely.geometry import Polygon, Point"
   ]
  },
  {
   "cell_type": "code",
   "execution_count": 4,
   "metadata": {},
   "outputs": [],
   "source": [
    "#| export\n",
    "def __get_data_path():\n",
    "    \" Regresa el path absoluto al direcorio de datos.\"\n",
    "    data_name = 'datos'\n",
    "    data_path = Path.cwd()\n",
    "    while data_path != data_path.parent and not (data_path/data_name).exists(): data_path = data_path.parent\n",
    "    if not (data_path/data_name).exists(): data_path = data_path\n",
    "    return data_path/data_name\n",
    "DATA_PATH = __get_data_path()\n",
    "DOWNLOADS_PATH = DATA_PATH/'descargas'"
   ]
  },
  {
   "cell_type": "markdown",
   "metadata": {},
   "source": [
    "## procesa_registros\n",
    "\n",
    "* Unifica los campos NA\n",
    "* Elimina records con faltantes el longitud o latitud\n",
    "* Transforma en GeoDataFrame"
   ]
  },
  {
   "cell_type": "code",
   "execution_count": 5,
   "metadata": {},
   "outputs": [],
   "source": [
    "#| export\n",
    "def procesa_registros(records:pd.DataFrame # viene de leer datos de carpetas o víctimas\n",
    "    )-> gpd.GeoDataFrame: # el mismo pero con los registros corregidos\n",
    "    \"\"\"Hace el procesamineto básico de los records de carpetas o víctimas.\"\"\"\n",
    "    records.replace('NA', np.nan, inplace=True)\n",
    "    records.dropna(subset=['longitud', 'latitud'], how='any', inplace=True)\n",
    "    records = gpd.GeoDataFrame(records, geometry=gpd.points_from_xy(records.longitud, records.latitud))\n",
    "    records = records.set_crs(epsg=4326)\n",
    "    return records"
   ]
  },
  {
   "cell_type": "markdown",
   "metadata": {},
   "source": [
    "## get_carpetas_from_api"
   ]
  },
  {
   "cell_type": "code",
   "execution_count": 6,
   "metadata": {},
   "outputs": [],
   "source": [
    "#| export\n",
    "def get_carpetas_from_api(limit:int=100 # Cuántos registros traigo del api\n",
    "    )-> Union[gpd.GeoDataFrame, None]:\n",
    "    \"\"\"Regresa un GeoDataFrame con los primeros `limit` registros de la base abierta.\"\"\"\n",
    "    url = f'https://datos.cdmx.gob.mx/api/3/action/datastore_search?resource_id=48fcb848-220c-4af0-839b-4fd8ac812c0f&limit={limit}'\n",
    "    try:\n",
    "        r = requests.get(url, allow_redirects=True)\n",
    "    except: # Quizá deberíamos cachar cosas específicas\n",
    "        return None\n",
    "    records = r.json()['result']['records']\n",
    "    records = pd.DataFrame(records)\n",
    "    records = procesa_registros(records)\n",
    "    records['fecha_hechos'] = pd.to_datetime(records.fecha_hechos, dayfirst=True)\n",
    "    return records"
   ]
  },
  {
   "cell_type": "code",
   "execution_count": 7,
   "metadata": {},
   "outputs": [],
   "source": [
    "carpetas = get_carpetas_from_api()\n",
    "assert (type(carpetas) == gpd.GeoDataFrame) or (carpetas is None) "
   ]
  },
  {
   "cell_type": "markdown",
   "metadata": {},
   "source": [
    "## get_victimas_from_api"
   ]
  },
  {
   "cell_type": "code",
   "execution_count": 8,
   "metadata": {},
   "outputs": [],
   "source": [
    "#| export\n",
    "def get_victimas_from_api(limit=100 # Cuántos registros traigo del api\n",
    "    )-> Union[gpd.GeoDataFrame, None]:\n",
    "    \"\"\"Regresa un GeoDataFrame con los primeros `limit` registros de la base abierta de víctimas.\"\"\"\n",
    "    url = f'https://datos.cdmx.gob.mx/api/3/action/datastore_search?resource_id=d543a7b1-f8cb-439f-8a5c-e56c5479eeb5&limit={limit}'\n",
    "    try:\n",
    "        r = requests.get(url, allow_redirects=True)\n",
    "    except:\n",
    "        return None\n",
    "    records = r.json()['result']['records']\n",
    "    records = pd.DataFrame(records)\n",
    "    records = procesa_registros(records)\n",
    "    records['FechaHecho'] = pd.to_datetime(records.FechaHecho, dayfirst=True)\n",
    "    records = records.rename({'FechaHecho':'fecha_hechos',\n",
    "                              'Delito': 'delito',\n",
    "                              'Categoria': 'categoria'}, axis=1)\n",
    "    return records"
   ]
  },
  {
   "cell_type": "code",
   "execution_count": 9,
   "metadata": {},
   "outputs": [],
   "source": [
    "victimas = get_victimas_from_api()\n",
    "assert (type(victimas) == gpd.GeoDataFrame) or (victimas is None)"
   ]
  },
  {
   "cell_type": "markdown",
   "metadata": {},
   "source": [
    "## descarga_historico_carpetas"
   ]
  },
  {
   "cell_type": "code",
   "execution_count": 10,
   "metadata": {},
   "outputs": [],
   "source": [
    "#| export\n",
    "def descarga_historico_carpetas()->os.path:\n",
    "    \"\"\"Descarga el histórico de carpetas y regrersa el path al archivo.\"\"\"\n",
    "    absp = os.path.abspath(os.path.join(DOWNLOADS_PATH, 'carpetas_fiscalia.csv'))\n",
    "    url = \"https://archivo.datos.cdmx.gob.mx/fiscalia-general-de-justicia/carpetas-de-investigacion-fgj-de-la-ciudad-de-mexico/carpetas_completa_febrero_2022.csv\"\n",
    "    if os.path.exists(absp):\n",
    "        print(\"El archivo ya está descargado\")\n",
    "    else:\n",
    "        r = requests.get(url, allow_redirects=True)\n",
    "        open(absp, 'wb').write(r.content)\n",
    "    return absp\n"
   ]
  },
  {
   "cell_type": "code",
   "execution_count": 11,
   "metadata": {},
   "outputs": [
    {
     "name": "stdout",
     "output_type": "stream",
     "text": [
      "El archivo ya está descargado\n"
     ]
    },
    {
     "data": {
      "text/plain": [
       "'/home/plablo/git/criminologia_cdmx/datos/descargas/carpetas_fiscalia.csv'"
      ]
     },
     "execution_count": 11,
     "metadata": {},
     "output_type": "execute_result"
    }
   ],
   "source": [
    "pth_carpetas = descarga_historico_carpetas()\n",
    "pth_carpetas"
   ]
  },
  {
   "cell_type": "markdown",
   "metadata": {},
   "source": [
    "## descarga_historico_victimas"
   ]
  },
  {
   "cell_type": "code",
   "execution_count": 12,
   "metadata": {},
   "outputs": [],
   "source": [
    "#| export\n",
    "def descarga_historico_victimas()->os.path:\n",
    "    \"\"\"Descarga el histórico de víctimas y regrersa el path al archivo.\"\"\"\n",
    "    absp = os.path.abspath(os.path.join(DOWNLOADS_PATH, 'victimas_carpetas_fiscalia.csv'))\n",
    "    url = \"https://archivo.datos.cdmx.gob.mx/fiscalia-general-de-justicia/victimas-en-carpetas-de-investigacion-fgj/victimas_completa_febrero_2022.csv\"\n",
    "    if os.path.exists(absp):\n",
    "        print(\"El archivo ya está descargado\")\n",
    "    else:\n",
    "        r = requests.get(url, allow_redirects=True)\n",
    "        open(absp, 'wb').write(r.content)\n",
    "    return absp\n"
   ]
  },
  {
   "cell_type": "code",
   "execution_count": 13,
   "metadata": {},
   "outputs": [
    {
     "name": "stdout",
     "output_type": "stream",
     "text": [
      "El archivo ya está descargado\n"
     ]
    },
    {
     "data": {
      "text/plain": [
       "'/home/plablo/git/criminologia_cdmx/datos/descargas/victimas_carpetas_fiscalia.csv'"
      ]
     },
     "execution_count": 13,
     "metadata": {},
     "output_type": "execute_result"
    }
   ],
   "source": [
    "pth_victimas = descarga_historico_victimas()\n",
    "pth_victimas"
   ]
  },
  {
   "cell_type": "markdown",
   "metadata": {},
   "source": [
    "## get_carpetas_desde_archivo"
   ]
  },
  {
   "cell_type": "code",
   "execution_count": 14,
   "metadata": {},
   "outputs": [],
   "source": [
    "#| export\n",
    "def get_carpetas_desde_archivo(archivo:os.path # El path al archivo (`descarga_historico_carpetas`)\n",
    "    )->gpd.GeoDataFrame:\n",
    "    \"\"\"Regresa un GeoDataFrame con los registros leídos de un archivo\"\"\"\n",
    "    records = pd.read_csv(archivo, low_memory=False)\n",
    "    records = procesa_registros(records)\n",
    "    records['fecha_hechos'] = pd.to_datetime(records.fecha_hechos, dayfirst=True)\n",
    "    return records"
   ]
  },
  {
   "cell_type": "code",
   "execution_count": 15,
   "metadata": {},
   "outputs": [],
   "source": [
    "carpetas_todas = get_carpetas_desde_archivo(pth_carpetas)\n",
    "assert type(carpetas_todas) == gpd.GeoDataFrame"
   ]
  },
  {
   "cell_type": "markdown",
   "metadata": {},
   "source": [
    "## get_victimas_desde_archivo"
   ]
  },
  {
   "cell_type": "code",
   "execution_count": 16,
   "metadata": {},
   "outputs": [],
   "source": [
    "#| export\n",
    "def get_victimas_desde_archivo(archivo # El path al archivo (`descarga_historico_victimas`)\n",
    "    )->os.path:\n",
    "    \"\"\"Regresa un GeoDataFrame con los registros leídos de un archivo\"\"\"\n",
    "    records = pd.read_csv(archivo)\n",
    "    records = procesa_registros(records)\n",
    "    records['FechaHecho'] = pd.to_datetime(records.FechaHecho, dayfirst=True)\n",
    "    records = records.rename({'FechaHecho':'fecha_hechos',\n",
    "                              'Delito': 'delito',\n",
    "                              'Categoria': 'categoria'}, axis=1)\n",
    "    return records"
   ]
  },
  {
   "cell_type": "code",
   "execution_count": 17,
   "metadata": {},
   "outputs": [],
   "source": [
    "carpetas_todas = get_victimas_desde_archivo(pth_victimas)\n",
    "assert type(carpetas_todas) == gpd.GeoDataFrame"
   ]
  },
  {
   "cell_type": "markdown",
   "metadata": {},
   "source": [
    "## descarga_manzanas"
   ]
  },
  {
   "cell_type": "code",
   "execution_count": 18,
   "metadata": {},
   "outputs": [],
   "source": [
    "#| export\n",
    "def descarga_manzanas()->os.path:\n",
    "    \"\"\" Descarga la geometría de manzanas con ids de cuadrante y colonia.\"\"\"\n",
    "    absp = os.path.abspath(os.path.join(DOWNLOADS_PATH, 'manzanas_identificadores.gpkg'))\n",
    "    if os.path.exists(absp):\n",
    "        print(\"El archivo ya está descargado.\")\n",
    "    else:\n",
    "        url = \"https://www.dropbox.com/s/a370kmtknhgca2y/manzanas_identificadores.gpkg?dl=1\"\n",
    "        r = requests.get(url, allow_redirects=True)\n",
    "        open(absp, 'wb').write(r.content)\n",
    "    return absp"
   ]
  },
  {
   "cell_type": "code",
   "execution_count": 19,
   "metadata": {},
   "outputs": [
    {
     "name": "stdout",
     "output_type": "stream",
     "text": [
      "El archivo ya está descargado.\n"
     ]
    },
    {
     "data": {
      "text/plain": [
       "'/home/plablo/git/criminologia_cdmx/datos/descargas/manzanas_identificadores.gpkg'"
      ]
     },
     "execution_count": 19,
     "metadata": {},
     "output_type": "execute_result"
    }
   ],
   "source": [
    "pth_manzanas = descarga_manzanas()\n",
    "pth_manzanas"
   ]
  },
  {
   "cell_type": "markdown",
   "metadata": {},
   "source": [
    "## agrega_ids_espaciales"
   ]
  },
  {
   "cell_type": "code",
   "execution_count": 20,
   "metadata": {},
   "outputs": [],
   "source": [
    "#| export\n",
    "def agrega_ids_espaciales(carpetas: gpd.GeoDataFrame, # Datos de carpetas o victimas (p.ej. `get_victimas_desde_archivo`)\n",
    "                          metodo:str='manzanas', # manzanas/poligonos\n",
    "                          tolerancia:float=500 # ¿qué tan lejos puede estar un incidente de una manzana?\n",
    "    )->gpd.GeoDataFrame:\n",
    "    \"\"\" Agrega ids de colonias y cuadrantes a la base de carpetas.\"\"\"\n",
    "    \n",
    "    if 'manzana_cvegeo' in carpetas.columns:\n",
    "        carpetas = carpetas.drop(columns='colonia_cve')\n",
    "    if 'colonia_cve' in carpetas.columns:\n",
    "        carpetas = carpetas.drop(columns='colonia_cve')\n",
    "    if 'colonia_nombre' in carpetas.columns:\n",
    "        carpetas = carpetas.drop(columns='colonia_nombre')\n",
    "    if 'cuadrante_id' in carpetas.columns:\n",
    "        carpetas = carpetas.drop(columns='cuadrante_id')\n",
    "    if 'municipio_cvegeo' in carpetas.columns:\n",
    "        carpetas = carpetas.drop(columns='municipio_cvegeo')\n",
    "    if metodo == 'poligonos':\n",
    "        shapes = os.path.join(DATA_PATH, 'criminologia_capas.gpkg')\n",
    "        colonias = gpd.read_file(shapes, layer='colonias')\n",
    "        cuadrantes = gpd.read_file(shapes, layer='cuadrantes')\n",
    "        carpetas = (gpd.tools.sjoin(carpetas, colonias[['colonia_cve', 'colonia_nombre', 'municipio_cvegeo', 'geometry']])\n",
    "                    .drop(columns=['index_right'])\n",
    "                   )\n",
    "        carpetas = (gpd.tools.sjoin(carpetas, cuadrantes[['cuadrante_id', 'geometry']])\n",
    "                    .drop(columns=['index_right']))\n",
    "    elif metodo == 'manzanas':\n",
    "        crs_original = carpetas.crs\n",
    "        manzanas_pth = descarga_manzanas()\n",
    "        manzanas = gpd.read_file(manzanas_pth)\n",
    "        manzanas['municipio_cvegeo'] = manzanas['CVE_ENT'] + manzanas['CVE_MUN']\n",
    "        carpetas = (carpetas\n",
    "                    .to_crs(manzanas.crs)\n",
    "                    .sjoin_nearest(manzanas[['CVEGEO', 'municipio_cvegeo', 'colonia_cve', 'colonia_nombre', \n",
    "                                             'cuadrante_id', 'geometry']], max_distance=tolerancia)\n",
    "                    .rename({'CVEGEO': 'manzana_cvegeo'}, axis=1)\n",
    "                    .drop(columns='index_right')\n",
    "                    .to_crs(crs_original))\n",
    "    else:\n",
    "        raise ValueError(\"'metodo' debe ser 'poligonos' o 'manzanas'\")\n",
    "    return carpetas"
   ]
  },
  {
   "cell_type": "markdown",
   "metadata": {},
   "source": [
    ":::{.callout-note}\n",
    "\n",
    "El método 'manzanas' hace un join_nearest con las manzanas que ya tienen ids de cuadrante y polígono; el método poligonos hace la unión espacial de los incidentes con las geometrías. Por lo tanto, el método `manzanas` incluye identificadores de manzanas mientras que el método `poligonos` solo agrega los identificadores de colonia y cuadrante. \n",
    "\n",
    "El método polígono ignora el valor de `tolerancia`\n",
    "\n",
    ":::"
   ]
  },
  {
   "cell_type": "code",
   "execution_count": 21,
   "metadata": {},
   "outputs": [
    {
     "name": "stdout",
     "output_type": "stream",
     "text": [
      "El archivo ya está descargado.\n",
      "El archivo ya está descargado.\n"
     ]
    }
   ],
   "source": [
    "# Pruebas método polígono\n",
    "carpetas = agrega_ids_espaciales(carpetas, metodo='poligonos')\n",
    "assert 'colonia_cve' in carpetas.columns\n",
    "assert 'cuadrante_id' in carpetas.columns\n",
    "assert 'municipio_cvegeo' in carpetas.columns\n",
    "victimas = agrega_ids_espaciales(victimas, metodo='poligonos')\n",
    "assert 'colonia_cve' in victimas.columns\n",
    "assert 'cuadrante_id' in victimas.columns\n",
    "assert 'municipio_cvegeo' in victimas.columns\n",
    "# Pruebas método manzanas\n",
    "carpetas = agrega_ids_espaciales(carpetas, metodo='manzanas')\n",
    "assert 'colonia_cve' in carpetas.columns\n",
    "assert 'cuadrante_id' in carpetas.columns\n",
    "assert 'municipio_cvegeo' in carpetas.columns\n",
    "assert 'manzana_cvegeo' in carpetas.columns\n",
    "victimas = agrega_ids_espaciales(victimas, metodo='manzanas')\n",
    "assert 'colonia_cve' in victimas.columns\n",
    "assert 'cuadrante_id' in victimas.columns\n",
    "assert 'municipio_cvegeo' in victimas.columns\n",
    "assert 'manzana_cvegeo' in carpetas.columns\n",
    "# TODO prueba de excepción"
   ]
  },
  {
   "cell_type": "markdown",
   "metadata": {},
   "source": [
    "## agregar_categorias_carpetas"
   ]
  },
  {
   "cell_type": "code",
   "execution_count": 22,
   "metadata": {},
   "outputs": [],
   "source": [
    "#| export\n",
    "def agregar_categorias_carpetas(carpetas:gpd.GeoDataFrame, # Carpetas de investigación (p.ej. `get_carpetas_desde_archivo`) \n",
    "                                archivo_categorias:os.path # path al archivo con las categorías\n",
    "                              )->gpd.GeoDataFrame:\n",
    "    \"\"\"Agrega una columna con categorías definidas por el usuario.\n",
    "\n",
    "      Las categorías tienen que venir en un csv con columnas incidente y categoria que\n",
    "      relacionen las categorías del usuario con la columna delitos de la base de carpetas.\n",
    "    \"\"\"\n",
    "    if 'categoria' in carpetas.columns:\n",
    "        carpetas = carpetas.drop(columns='categoria')\n",
    "    if 'incidente' in carpetas.columns:\n",
    "        carpetas = carpetas.drop(columns='incidente')\n",
    "    categorias = pd.read_csv(archivo_categorias)\n",
    "    carpetas = (carpetas\n",
    "                .merge(categorias, left_on='delito', right_on='incidente', how='left')\n",
    "                .drop(columns='incidente'))\n",
    "    return carpetas"
   ]
  },
  {
   "cell_type": "markdown",
   "metadata": {},
   "source": [
    "El archivo que relaciona categorias con carpetas:"
   ]
  },
  {
   "cell_type": "code",
   "execution_count": 23,
   "metadata": {},
   "outputs": [
    {
     "data": {
      "text/html": [
       "<div>\n",
       "<style scoped>\n",
       "    .dataframe tbody tr th:only-of-type {\n",
       "        vertical-align: middle;\n",
       "    }\n",
       "\n",
       "    .dataframe tbody tr th {\n",
       "        vertical-align: top;\n",
       "    }\n",
       "\n",
       "    .dataframe thead th {\n",
       "        text-align: right;\n",
       "    }\n",
       "</style>\n",
       "<table border=\"1\" class=\"dataframe\">\n",
       "  <thead>\n",
       "    <tr style=\"text-align: right;\">\n",
       "      <th></th>\n",
       "      <th>incidente</th>\n",
       "      <th>categoria</th>\n",
       "    </tr>\n",
       "  </thead>\n",
       "  <tbody>\n",
       "    <tr>\n",
       "      <th>0</th>\n",
       "      <td>HOMICIDIO POR AHORCAMIENTO</td>\n",
       "      <td>Homicidios dolosos</td>\n",
       "    </tr>\n",
       "    <tr>\n",
       "      <th>1</th>\n",
       "      <td>HOMICIDIO POR ARMA BLANCA</td>\n",
       "      <td>Homicidios dolosos</td>\n",
       "    </tr>\n",
       "    <tr>\n",
       "      <th>2</th>\n",
       "      <td>HOMICIDIO POR ARMA DE FUEGO</td>\n",
       "      <td>Homicidios dolosos</td>\n",
       "    </tr>\n",
       "    <tr>\n",
       "      <th>3</th>\n",
       "      <td>HOMICIDIO POR GOLPES</td>\n",
       "      <td>Homicidios dolosos</td>\n",
       "    </tr>\n",
       "    <tr>\n",
       "      <th>4</th>\n",
       "      <td>HOMICIDIOS INTENCIONALES (OTROS)</td>\n",
       "      <td>Homicidios dolosos</td>\n",
       "    </tr>\n",
       "    <tr>\n",
       "      <th>...</th>\n",
       "      <td>...</td>\n",
       "      <td>...</td>\n",
       "    </tr>\n",
       "    <tr>\n",
       "      <th>73</th>\n",
       "      <td>ROBO DE VEHICULO DE SERVICIO PÚBLICO CON VIOLE...</td>\n",
       "      <td>Robo de/en vehículo</td>\n",
       "    </tr>\n",
       "    <tr>\n",
       "      <th>74</th>\n",
       "      <td>ROBO DE VEHICULO DE SERVICIO PÚBLICO SIN VIOLE...</td>\n",
       "      <td>Robo de/en vehículo</td>\n",
       "    </tr>\n",
       "    <tr>\n",
       "      <th>75</th>\n",
       "      <td>ROBO DE VEHICULO ELECTRICO MOTOPATIN</td>\n",
       "      <td>Robo de/en vehículo</td>\n",
       "    </tr>\n",
       "    <tr>\n",
       "      <th>76</th>\n",
       "      <td>OBO DE VEHICULO EN PENSION, TALLER Y AGENCIAS C/V</td>\n",
       "      <td>Robo de/en vehículo</td>\n",
       "    </tr>\n",
       "    <tr>\n",
       "      <th>77</th>\n",
       "      <td>ROBO DE VEHICULO EN PENSION, TALLER Y AGENCIAS...</td>\n",
       "      <td>Robo de/en vehículo</td>\n",
       "    </tr>\n",
       "  </tbody>\n",
       "</table>\n",
       "<p>78 rows × 2 columns</p>\n",
       "</div>"
      ],
      "text/plain": [
       "                                            incidente            categoria\n",
       "0                          HOMICIDIO POR AHORCAMIENTO   Homicidios dolosos\n",
       "1                           HOMICIDIO POR ARMA BLANCA   Homicidios dolosos\n",
       "2                         HOMICIDIO POR ARMA DE FUEGO   Homicidios dolosos\n",
       "3                                HOMICIDIO POR GOLPES   Homicidios dolosos\n",
       "4                    HOMICIDIOS INTENCIONALES (OTROS)   Homicidios dolosos\n",
       "..                                                ...                  ...\n",
       "73  ROBO DE VEHICULO DE SERVICIO PÚBLICO CON VIOLE...  Robo de/en vehículo\n",
       "74  ROBO DE VEHICULO DE SERVICIO PÚBLICO SIN VIOLE...  Robo de/en vehículo\n",
       "75               ROBO DE VEHICULO ELECTRICO MOTOPATIN  Robo de/en vehículo\n",
       "76  OBO DE VEHICULO EN PENSION, TALLER Y AGENCIAS C/V  Robo de/en vehículo\n",
       "77  ROBO DE VEHICULO EN PENSION, TALLER Y AGENCIAS...  Robo de/en vehículo\n",
       "\n",
       "[78 rows x 2 columns]"
      ]
     },
     "execution_count": 23,
     "metadata": {},
     "output_type": "execute_result"
    }
   ],
   "source": [
    "categorias_carpetas = pd.read_csv(DATA_PATH/'categorias_carpetas.csv')\n",
    "categorias_carpetas"
   ]
  },
  {
   "cell_type": "code",
   "execution_count": 24,
   "metadata": {},
   "outputs": [],
   "source": [
    "carpetas = agregar_categorias_carpetas(carpetas, DATA_PATH/'categorias_carpetas.csv')\n",
    "assert 'categoria' in carpetas.columns"
   ]
  },
  {
   "cell_type": "markdown",
   "metadata": {},
   "source": [
    "## agregar_categorias_victimas"
   ]
  },
  {
   "cell_type": "code",
   "execution_count": 25,
   "metadata": {},
   "outputs": [],
   "source": [
    "#| export\n",
    "def agregar_categorias_victimas(carpetas:gpd.GeoDataFrame, # Víctimas en Carpetas de investigación (p.ej. `get_victimas_desde_archivo`)\n",
    "                                archivo_categorias:os.path# path al archivo con las categorías\n",
    "                                )-> gpd.GeoDataFrame:\n",
    "    \"\"\"Columnas con niveles definidos por el usuario\n",
    "\n",
    "      Las categorías tienen que venir en un csv con columnas llamadas Nivel 1, Nivel 2 ...\n",
    "      que relacionen los niveles con las columnas Delito y Categoría en la base de Víctimas.\n",
    "    \"\"\"\n",
    "    columnas_nivel = [c for c in carpetas.columns if 'Nivel' in c]\n",
    "    if len(columnas_nivel):\n",
    "        carpetas = carpetas.drop(columns=columnas_nivel)\n",
    "    categorias = pd.read_csv(archivo_categorias)\n",
    "    carpetas = (carpetas\n",
    "                .merge(categorias, left_on='delito', right_on='Delito', how='left')\n",
    "                .rename({'categoria_x': 'categoria'}, axis=1)\n",
    "                )\n",
    "    return carpetas"
   ]
  },
  {
   "cell_type": "markdown",
   "metadata": {},
   "source": [
    "El archivo que relaciona las categorías con las víctimas:"
   ]
  },
  {
   "cell_type": "code",
   "execution_count": 26,
   "metadata": {},
   "outputs": [
    {
     "data": {
      "text/html": [
       "<div>\n",
       "<style scoped>\n",
       "    .dataframe tbody tr th:only-of-type {\n",
       "        vertical-align: middle;\n",
       "    }\n",
       "\n",
       "    .dataframe tbody tr th {\n",
       "        vertical-align: top;\n",
       "    }\n",
       "\n",
       "    .dataframe thead th {\n",
       "        text-align: right;\n",
       "    }\n",
       "</style>\n",
       "<table border=\"1\" class=\"dataframe\">\n",
       "  <thead>\n",
       "    <tr style=\"text-align: right;\">\n",
       "      <th></th>\n",
       "      <th>Delito</th>\n",
       "      <th>Categoria</th>\n",
       "      <th>Cantidad</th>\n",
       "      <th>Nivel 1</th>\n",
       "      <th>Nivel 2</th>\n",
       "      <th>Nivel 3</th>\n",
       "    </tr>\n",
       "  </thead>\n",
       "  <tbody>\n",
       "    <tr>\n",
       "      <th>0</th>\n",
       "      <td>ABORTO</td>\n",
       "      <td>DELITO DE BAJO IMPACTO</td>\n",
       "      <td>168</td>\n",
       "      <td>NaN</td>\n",
       "      <td>NaN</td>\n",
       "      <td>NaN</td>\n",
       "    </tr>\n",
       "    <tr>\n",
       "      <th>1</th>\n",
       "      <td>ABUSO DE AUTORIDAD Y USO ILEGAL DE LA FUERZA P...</td>\n",
       "      <td>DELITO DE BAJO IMPACTO</td>\n",
       "      <td>5924</td>\n",
       "      <td>NaN</td>\n",
       "      <td>NaN</td>\n",
       "      <td>NaN</td>\n",
       "    </tr>\n",
       "    <tr>\n",
       "      <th>2</th>\n",
       "      <td>ABUSO DE CONFIANZA</td>\n",
       "      <td>DELITO DE BAJO IMPACTO</td>\n",
       "      <td>12050</td>\n",
       "      <td>Abuso de Confianza</td>\n",
       "      <td>NaN</td>\n",
       "      <td>NaN</td>\n",
       "    </tr>\n",
       "    <tr>\n",
       "      <th>3</th>\n",
       "      <td>ABUSO SEXUAL</td>\n",
       "      <td>DELITO DE BAJO IMPACTO</td>\n",
       "      <td>10238</td>\n",
       "      <td>Abuso Sexual</td>\n",
       "      <td>NaN</td>\n",
       "      <td>NaN</td>\n",
       "    </tr>\n",
       "    <tr>\n",
       "      <th>4</th>\n",
       "      <td>ACOSO SEXUAL</td>\n",
       "      <td>DELITO DE BAJO IMPACTO</td>\n",
       "      <td>2986</td>\n",
       "      <td>NaN</td>\n",
       "      <td>NaN</td>\n",
       "      <td>NaN</td>\n",
       "    </tr>\n",
       "    <tr>\n",
       "      <th>...</th>\n",
       "      <td>...</td>\n",
       "      <td>...</td>\n",
       "      <td>...</td>\n",
       "      <td>...</td>\n",
       "      <td>...</td>\n",
       "      <td>...</td>\n",
       "    </tr>\n",
       "    <tr>\n",
       "      <th>295</th>\n",
       "      <td>VIOLACION TUMULTUARIA</td>\n",
       "      <td>VIOLACIÓN</td>\n",
       "      <td>74</td>\n",
       "      <td>NaN</td>\n",
       "      <td>NaN</td>\n",
       "      <td>NaN</td>\n",
       "    </tr>\n",
       "    <tr>\n",
       "      <th>296</th>\n",
       "      <td>VIOLACION TUMULTUARIA EQUIPARADA</td>\n",
       "      <td>VIOLACIÓN</td>\n",
       "      <td>4</td>\n",
       "      <td>NaN</td>\n",
       "      <td>NaN</td>\n",
       "      <td>NaN</td>\n",
       "    </tr>\n",
       "    <tr>\n",
       "      <th>297</th>\n",
       "      <td>VIOLACION TUMULTUARIA EQUIPARADA POR CONOCIDO</td>\n",
       "      <td>VIOLACIÓN</td>\n",
       "      <td>2</td>\n",
       "      <td>NaN</td>\n",
       "      <td>NaN</td>\n",
       "      <td>NaN</td>\n",
       "    </tr>\n",
       "    <tr>\n",
       "      <th>298</th>\n",
       "      <td>VIOLACION Y ROBO DE VEHICULO</td>\n",
       "      <td>VIOLACIÓN</td>\n",
       "      <td>1</td>\n",
       "      <td>NaN</td>\n",
       "      <td>NaN</td>\n",
       "      <td>NaN</td>\n",
       "    </tr>\n",
       "    <tr>\n",
       "      <th>299</th>\n",
       "      <td>VIOLENCIA FAMILIAR</td>\n",
       "      <td>DELITO DE BAJO IMPACTO</td>\n",
       "      <td>94592</td>\n",
       "      <td>Violencia Familiar</td>\n",
       "      <td>NaN</td>\n",
       "      <td>NaN</td>\n",
       "    </tr>\n",
       "  </tbody>\n",
       "</table>\n",
       "<p>300 rows × 6 columns</p>\n",
       "</div>"
      ],
      "text/plain": [
       "                                                Delito  \\\n",
       "0                                               ABORTO   \n",
       "1    ABUSO DE AUTORIDAD Y USO ILEGAL DE LA FUERZA P...   \n",
       "2                                   ABUSO DE CONFIANZA   \n",
       "3                                         ABUSO SEXUAL   \n",
       "4                                         ACOSO SEXUAL   \n",
       "..                                                 ...   \n",
       "295                              VIOLACION TUMULTUARIA   \n",
       "296                   VIOLACION TUMULTUARIA EQUIPARADA   \n",
       "297      VIOLACION TUMULTUARIA EQUIPARADA POR CONOCIDO   \n",
       "298                       VIOLACION Y ROBO DE VEHICULO   \n",
       "299                                 VIOLENCIA FAMILIAR   \n",
       "\n",
       "                  Categoria  Cantidad             Nivel 1 Nivel 2 Nivel 3  \n",
       "0    DELITO DE BAJO IMPACTO       168                 NaN     NaN     NaN  \n",
       "1    DELITO DE BAJO IMPACTO      5924                 NaN     NaN     NaN  \n",
       "2    DELITO DE BAJO IMPACTO     12050  Abuso de Confianza     NaN     NaN  \n",
       "3    DELITO DE BAJO IMPACTO     10238        Abuso Sexual     NaN     NaN  \n",
       "4    DELITO DE BAJO IMPACTO      2986                 NaN     NaN     NaN  \n",
       "..                      ...       ...                 ...     ...     ...  \n",
       "295               VIOLACIÓN        74                 NaN     NaN     NaN  \n",
       "296               VIOLACIÓN         4                 NaN     NaN     NaN  \n",
       "297               VIOLACIÓN         2                 NaN     NaN     NaN  \n",
       "298               VIOLACIÓN         1                 NaN     NaN     NaN  \n",
       "299  DELITO DE BAJO IMPACTO     94592  Violencia Familiar     NaN     NaN  \n",
       "\n",
       "[300 rows x 6 columns]"
      ]
     },
     "execution_count": 26,
     "metadata": {},
     "output_type": "execute_result"
    }
   ],
   "source": [
    "categorias_victimas = pd.read_csv(DATA_PATH/'categorias_victimas.csv')\n",
    "categorias_victimas"
   ]
  },
  {
   "cell_type": "code",
   "execution_count": 27,
   "metadata": {},
   "outputs": [],
   "source": [
    "pth_categorias_v = os.path.join(DATA_PATH, \"categorias_victimas.csv\")\n",
    "victimas = agregar_categorias_victimas(victimas, pth_categorias_v)\n",
    "assert 'Nivel 1' in victimas.columns"
   ]
  },
  {
   "cell_type": "markdown",
   "metadata": {},
   "source": [
    "## exporta_datos_visualizador"
   ]
  },
  {
   "cell_type": "code",
   "execution_count": 28,
   "metadata": {},
   "outputs": [],
   "source": [
    "#| export\n",
    "def exporta_datos_visualizador(carpetas:gpd.GeoDataFrame, # Datos de carpetas o victimas (p.ej. `get_victimas_desde_archivo`)\n",
    "                               archivo_resultado:os.path, # A dónde exportamos el archivo\n",
    "                               fecha_inicio:pd.DatetimeTZDtype=pd.to_datetime('01/01/2019'), # Dónde empezamos\n",
    "                               tipo:str='victimas')->None:\n",
    "    \"\"\" Escribe en archivo_resultado un csv para consumirse en el visualizador.\n",
    "\n",
    "        La opción tipo=victimas/carpetas controla si los datos de entrada son carpetas o victimas.\n",
    "    \"\"\"\n",
    "    columnas = ['fecha_hechos', 'delito', 'municipio_cvegeo',\n",
    "                'colonia_cve', 'cuadrante_id', 'categoria', 'lat', 'long']\n",
    "    if tipo == 'carpetas':\n",
    "        columnas = columnas + ['categoria']\n",
    "    elif tipo == 'victimas':\n",
    "        columnas_nivel = [c for c in carpetas.columns if 'Nivel' in c]\n",
    "        columnas = columnas + columnas_nivel\n",
    "    carpetas['lat'] = carpetas.geometry.y\n",
    "    carpetas['long'] = carpetas.geometry.x\n",
    "    carpetas = carpetas[columnas]\n",
    "    carpetas = carpetas.loc[carpetas.fecha_hechos >= fecha_inicio]\n",
    "    carpetas.to_csv(archivo_resultado)"
   ]
  },
  {
   "cell_type": "code",
   "execution_count": 29,
   "metadata": {},
   "outputs": [],
   "source": [
    "exporta_datos_visualizador(carpetas, \"../../datos/salidas/carpetas.csv\", tipo='carpetas')\n",
    "exporta_datos_visualizador(victimas, \"../../datos/salidas/victimas.csv\", tipo='victimas')"
   ]
  },
  {
   "cell_type": "markdown",
   "metadata": {},
   "source": [
    "## serie_de_tiempo_categoria"
   ]
  },
  {
   "cell_type": "code",
   "execution_count": 30,
   "metadata": {},
   "outputs": [],
   "source": [
    "#| export\n",
    "def serie_de_tiempo_categoria(carpetas:gpd.GeoDataFrame, # incidentes, deben traer la columna categoria (p.ej. 'agregar_categorias_carpetas')\n",
    "                              fecha_inicio:pd.DatetimeTZDtype, # fecha del inicio de la serie\n",
    "                              categoria, # nombre de la categoría a agregar (`agregar_categorias_carpetas`)\n",
    "                              freq:str='M' # frecuencia de agregación (https://pandas.pydata.org/pandas-docs/stable/user_guide/timeseries.html#offset-aliases)\n",
    "                              )-> pd.DataFrame:\n",
    "    \"\"\" Regresa una serie de tiempo con los agregados por `freq` de la `categoria`.\"\"\"\n",
    "    carpetas = carpetas.loc[carpetas.fecha_hechos >= fecha_inicio]\n",
    "    carpetas = carpetas.loc[carpetas.categoria == categoria]\n",
    "    serie = (carpetas\n",
    "             .set_index('fecha_hechos')[['categoria']]\n",
    "             .resample(freq)\n",
    "             .size()\n",
    "             .reset_index()\n",
    "             .rename({0:categoria}, axis=1)\n",
    "            )\n",
    "    return serie"
   ]
  },
  {
   "cell_type": "code",
   "execution_count": 31,
   "metadata": {},
   "outputs": [
    {
     "data": {
      "text/html": [
       "<div>\n",
       "<style scoped>\n",
       "    .dataframe tbody tr th:only-of-type {\n",
       "        vertical-align: middle;\n",
       "    }\n",
       "\n",
       "    .dataframe tbody tr th {\n",
       "        vertical-align: top;\n",
       "    }\n",
       "\n",
       "    .dataframe thead th {\n",
       "        text-align: right;\n",
       "    }\n",
       "</style>\n",
       "<table border=\"1\" class=\"dataframe\">\n",
       "  <thead>\n",
       "    <tr style=\"text-align: right;\">\n",
       "      <th></th>\n",
       "      <th>fecha_hechos</th>\n",
       "      <th>Robo a pasajero</th>\n",
       "    </tr>\n",
       "  </thead>\n",
       "  <tbody>\n",
       "    <tr>\n",
       "      <th>0</th>\n",
       "      <td>2016-01-31</td>\n",
       "      <td>1</td>\n",
       "    </tr>\n",
       "  </tbody>\n",
       "</table>\n",
       "</div>"
      ],
      "text/plain": [
       "  fecha_hechos  Robo a pasajero\n",
       "0   2016-01-31                1"
      ]
     },
     "execution_count": 31,
     "metadata": {},
     "output_type": "execute_result"
    }
   ],
   "source": [
    "serie = serie_de_tiempo_categoria(carpetas, pd.to_datetime('01/01/2016'), 'Robo a pasajero')\n",
    "serie"
   ]
  },
  {
   "cell_type": "markdown",
   "metadata": {},
   "source": [
    "## serie_tiempo_categorias_unidades"
   ]
  },
  {
   "cell_type": "code",
   "execution_count": 32,
   "metadata": {},
   "outputs": [],
   "source": [
    "#| export\n",
    "def serie_tiempo_categorias_unidades(datos:gpd.GeoDataFrame, # víctimas/carpetas, deben tener agregadas las categorías de usuario\n",
    "                                     fecha_inicio:pd.DatetimeTZDtype, # fecha del inicio de la serie \n",
    "                                     tipo:str='victimas', # carpetas/victimas\n",
    "                                     geografia:str='colonias',# colonias/cuadrantes\n",
    "                                     freq:str='W', #frecuencia de agregación (https://pandas.pydata.org/pandas-docs/stable/user_guide/timeseries.html#offset-aliases)\n",
    "                                     categorias:list=['Nivel 1'] # lista de las categorías para agregar. Las columnas deben existir en la base\n",
    "                                     )->pd.DataFrame:\n",
    "    \"\"\" Regresa una serie de tiempo con los agregados por `freq` para categorias y\n",
    "        la geografía especificada.\"\"\"\n",
    "    dummies = pd.get_dummies(datos[categorias])\n",
    "    datos = datos.loc[datos.fecha_hechos >= fecha_inicio]\n",
    "    datos = pd.concat([datos, dummies], axis=1)\n",
    "    if geografia == 'colonias':\n",
    "        id_vars = ['colonia_nombre', 'colonia_cve']\n",
    "    elif geografia == 'cuadrantes':\n",
    "        id_vars = ['cuadrante_id']\n",
    "    else:\n",
    "        return #RAISE!!!!!\n",
    "    serie = (datos[['fecha_hechos', *id_vars, *list(dummies.columns)]]\n",
    "             .set_index('fecha_hechos')\n",
    "             .groupby([pd.Grouper(freq=\"M\"), *id_vars])\n",
    "             .sum())\n",
    "    serie = serie.reset_index().melt(id_vars=['fecha_hechos', *id_vars])\n",
    "    return serie"
   ]
  },
  {
   "cell_type": "code",
   "execution_count": 33,
   "metadata": {},
   "outputs": [
    {
     "data": {
      "text/html": [
       "<div>\n",
       "<style scoped>\n",
       "    .dataframe tbody tr th:only-of-type {\n",
       "        vertical-align: middle;\n",
       "    }\n",
       "\n",
       "    .dataframe tbody tr th {\n",
       "        vertical-align: top;\n",
       "    }\n",
       "\n",
       "    .dataframe thead th {\n",
       "        text-align: right;\n",
       "    }\n",
       "</style>\n",
       "<table border=\"1\" class=\"dataframe\">\n",
       "  <thead>\n",
       "    <tr style=\"text-align: right;\">\n",
       "      <th></th>\n",
       "      <th>fecha_hechos</th>\n",
       "      <th>colonia_nombre</th>\n",
       "      <th>colonia_cve</th>\n",
       "      <th>variable</th>\n",
       "      <th>value</th>\n",
       "    </tr>\n",
       "  </thead>\n",
       "  <tbody>\n",
       "    <tr>\n",
       "      <th>0</th>\n",
       "      <td>2019-01-31</td>\n",
       "      <td>7 DE JULIO</td>\n",
       "      <td>868.0</td>\n",
       "      <td>Nivel 1_Abuso de Confianza</td>\n",
       "      <td>0</td>\n",
       "    </tr>\n",
       "    <tr>\n",
       "      <th>1</th>\n",
       "      <td>2019-01-31</td>\n",
       "      <td>AGRICOLA ORIENTAL V</td>\n",
       "      <td>885.0</td>\n",
       "      <td>Nivel 1_Abuso de Confianza</td>\n",
       "      <td>0</td>\n",
       "    </tr>\n",
       "    <tr>\n",
       "      <th>2</th>\n",
       "      <td>2019-01-31</td>\n",
       "      <td>ASTURIAS (AMPL)</td>\n",
       "      <td>170.0</td>\n",
       "      <td>Nivel 1_Abuso de Confianza</td>\n",
       "      <td>0</td>\n",
       "    </tr>\n",
       "    <tr>\n",
       "      <th>3</th>\n",
       "      <td>2019-01-31</td>\n",
       "      <td>AÑO DE JUAREZ</td>\n",
       "      <td>1469.0</td>\n",
       "      <td>Nivel 1_Abuso de Confianza</td>\n",
       "      <td>0</td>\n",
       "    </tr>\n",
       "    <tr>\n",
       "      <th>4</th>\n",
       "      <td>2019-01-31</td>\n",
       "      <td>BOSQUE DE CHAPULTEPEC I, II Y III SECCIONES</td>\n",
       "      <td>187.0</td>\n",
       "      <td>Nivel 1_Abuso de Confianza</td>\n",
       "      <td>0</td>\n",
       "    </tr>\n",
       "    <tr>\n",
       "      <th>...</th>\n",
       "      <td>...</td>\n",
       "      <td>...</td>\n",
       "      <td>...</td>\n",
       "      <td>...</td>\n",
       "      <td>...</td>\n",
       "    </tr>\n",
       "    <tr>\n",
       "      <th>683</th>\n",
       "      <td>2019-01-31</td>\n",
       "      <td>TACUBAYA</td>\n",
       "      <td>181.0</td>\n",
       "      <td>Nivel 1_Violencia Familiar</td>\n",
       "      <td>0</td>\n",
       "    </tr>\n",
       "    <tr>\n",
       "      <th>684</th>\n",
       "      <td>2019-01-31</td>\n",
       "      <td>TENORIOS</td>\n",
       "      <td>1401.0</td>\n",
       "      <td>Nivel 1_Violencia Familiar</td>\n",
       "      <td>0</td>\n",
       "    </tr>\n",
       "    <tr>\n",
       "      <th>685</th>\n",
       "      <td>2019-01-31</td>\n",
       "      <td>TEPETATAL</td>\n",
       "      <td>14.0</td>\n",
       "      <td>Nivel 1_Violencia Familiar</td>\n",
       "      <td>0</td>\n",
       "    </tr>\n",
       "    <tr>\n",
       "      <th>686</th>\n",
       "      <td>2019-01-31</td>\n",
       "      <td>TLAXPANA</td>\n",
       "      <td>204.0</td>\n",
       "      <td>Nivel 1_Violencia Familiar</td>\n",
       "      <td>0</td>\n",
       "    </tr>\n",
       "    <tr>\n",
       "      <th>687</th>\n",
       "      <td>2019-01-31</td>\n",
       "      <td>TOLTECA</td>\n",
       "      <td>969.0</td>\n",
       "      <td>Nivel 1_Violencia Familiar</td>\n",
       "      <td>0</td>\n",
       "    </tr>\n",
       "  </tbody>\n",
       "</table>\n",
       "<p>688 rows × 5 columns</p>\n",
       "</div>"
      ],
      "text/plain": [
       "    fecha_hechos                               colonia_nombre  colonia_cve  \\\n",
       "0     2019-01-31                                   7 DE JULIO        868.0   \n",
       "1     2019-01-31                          AGRICOLA ORIENTAL V        885.0   \n",
       "2     2019-01-31                              ASTURIAS (AMPL)        170.0   \n",
       "3     2019-01-31                                AÑO DE JUAREZ       1469.0   \n",
       "4     2019-01-31  BOSQUE DE CHAPULTEPEC I, II Y III SECCIONES        187.0   \n",
       "..           ...                                          ...          ...   \n",
       "683   2019-01-31                                     TACUBAYA        181.0   \n",
       "684   2019-01-31                                     TENORIOS       1401.0   \n",
       "685   2019-01-31                                    TEPETATAL         14.0   \n",
       "686   2019-01-31                                     TLAXPANA        204.0   \n",
       "687   2019-01-31                                      TOLTECA        969.0   \n",
       "\n",
       "                       variable  value  \n",
       "0    Nivel 1_Abuso de Confianza      0  \n",
       "1    Nivel 1_Abuso de Confianza      0  \n",
       "2    Nivel 1_Abuso de Confianza      0  \n",
       "3    Nivel 1_Abuso de Confianza      0  \n",
       "4    Nivel 1_Abuso de Confianza      0  \n",
       "..                          ...    ...  \n",
       "683  Nivel 1_Violencia Familiar      0  \n",
       "684  Nivel 1_Violencia Familiar      0  \n",
       "685  Nivel 1_Violencia Familiar      0  \n",
       "686  Nivel 1_Violencia Familiar      0  \n",
       "687  Nivel 1_Violencia Familiar      0  \n",
       "\n",
       "[688 rows x 5 columns]"
      ]
     },
     "execution_count": 33,
     "metadata": {},
     "output_type": "execute_result"
    }
   ],
   "source": [
    "serie = serie_tiempo_categorias_unidades(victimas, pd.to_datetime('01/01/2019'))\n",
    "serie"
   ]
  },
  {
   "cell_type": "markdown",
   "metadata": {},
   "source": [
    "## punto_to_hexid"
   ]
  },
  {
   "cell_type": "code",
   "execution_count": 34,
   "metadata": {},
   "outputs": [],
   "source": [
    "#| export\n",
    "def punto_to_hexid(punto:Point, # Punto para obtener el hex_id\n",
    "                  resolution: int # Escala de H3\n",
    "                  ):\n",
    "    \"\"\"Regresa el hexid (h3) del punto.\"\"\"\n",
    "    return h3.geo_to_h3(punto.y, punto.x, resolution)"
   ]
  },
  {
   "cell_type": "markdown",
   "metadata": {},
   "source": [
    "## agrega_en_hexagonos"
   ]
  },
  {
   "cell_type": "code",
   "execution_count": 35,
   "metadata": {},
   "outputs": [],
   "source": [
    "#| export\n",
    "def agrega_en_hexagonos(puntos:gpd.GeoDataFrame, # Los datos que vamos a pasar a hexágonos\n",
    "                       resolution:int # Escala de H3\n",
    "                       ):\n",
    "    \"\"\"Regresa un GeoDataFrame con las cuentas de puntos agregadas en hexágonos.\"\"\"\n",
    "    puntos.loc[:,'hex_id'] = puntos.loc[:,'geometry'].apply(punto_to_hexid, args=[resolution])\n",
    "    by_hex = puntos.groupby('hex_id').size().reset_index()\n",
    "    # by_hex['geometry'] = by_hex['hex_id'].apply(lambda hex_id: Polygon(h3.h3_to_geo_boundary(hex_id)))\n",
    "    by_hex['geometry'] = by_hex['hex_id'].apply(lambda hex_id: Polygon([x[::-1] for x in h3.h3_to_geo_boundary(hex_id)]))\n",
    "    by_hex = gpd.GeoDataFrame(by_hex).rename({0:'incidentes'}, axis=1).set_crs(epsg=4326)\n",
    "    return by_hex"
   ]
  },
  {
   "cell_type": "code",
   "execution_count": 36,
   "metadata": {},
   "outputs": [],
   "source": [
    "#| hide\n",
    "import nbdev; nbdev.nbdev_export()"
   ]
  }
 ],
 "metadata": {
  "kernelspec": {
   "display_name": "Python 3.10.6 ('criminologia_cdmx')",
   "language": "python",
   "name": "python3"
  },
  "language_info": {
   "codemirror_mode": {
    "name": "ipython",
    "version": 3
   },
   "file_extension": ".py",
   "mimetype": "text/x-python",
   "name": "python",
   "nbconvert_exporter": "python",
   "pygments_lexer": "ipython3",
   "version": "3.10.6"
  },
  "vscode": {
   "interpreter": {
    "hash": "491c480dcc2764d08062986c1cbff907ffe480616c86d1b17a399f56da365f66"
   }
  }
 },
 "nbformat": 4,
 "nbformat_minor": 4
}
