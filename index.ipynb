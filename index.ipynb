{
 "cells": [
  {
   "cell_type": "code",
   "execution_count": null,
   "metadata": {},
   "outputs": [],
   "source": [
    "#hide\n",
    "from criminologia_cdmx.etl import *"
   ]
  },
  {
   "cell_type": "markdown",
   "metadata": {},
   "source": [
    "# criminologia_cdmx\n",
    "\n",
    "> Herramientas para el análisis espacial de la delincuencia en la CDMX."
   ]
  },
  {
   "cell_type": "markdown",
   "metadata": {},
   "source": [
    "## Instalación"
   ]
  },
  {
   "cell_type": "markdown",
   "metadata": {},
   "source": [
    "`pip install criminologia_cdmx`"
   ]
  },
  {
   "cell_type": "markdown",
   "metadata": {},
   "source": [
    "## Uso"
   ]
  },
  {
   "cell_type": "markdown",
   "metadata": {},
   "source": [
    "## ETL\n",
    "````Python\n",
    "from criminologia_cdmx.etl import *\n",
    "````"
   ]
  },
  {
   "cell_type": "code",
   "execution_count": null,
   "metadata": {},
   "outputs": [
    {
     "data": {
      "text/plain": [
       "2"
      ]
     },
     "execution_count": null,
     "metadata": {},
     "output_type": "execute_result"
    }
   ],
   "source": [
    "1+1"
   ]
  },
  {
   "cell_type": "markdown",
   "metadata": {},
   "source": [
    "### Bajar datos abiertos "
   ]
  },
  {
   "cell_type": "code",
   "execution_count": null,
   "metadata": {},
   "outputs": [
    {
     "data": {
      "text/html": [
       "<div>\n",
       "<style scoped>\n",
       "    .dataframe tbody tr th:only-of-type {\n",
       "        vertical-align: middle;\n",
       "    }\n",
       "\n",
       "    .dataframe tbody tr th {\n",
       "        vertical-align: top;\n",
       "    }\n",
       "\n",
       "    .dataframe thead th {\n",
       "        text-align: right;\n",
       "    }\n",
       "</style>\n",
       "<table border=\"1\" class=\"dataframe\">\n",
       "  <thead>\n",
       "    <tr style=\"text-align: right;\">\n",
       "      <th></th>\n",
       "      <th>_id</th>\n",
       "      <th>ao_hechos</th>\n",
       "      <th>mes_hechos</th>\n",
       "      <th>fecha_hechos</th>\n",
       "      <th>ao_inicio</th>\n",
       "      <th>mes_inicio</th>\n",
       "      <th>fecha_inicio</th>\n",
       "      <th>delito</th>\n",
       "      <th>fiscalia</th>\n",
       "      <th>agencia</th>\n",
       "      <th>unidad_investigacion</th>\n",
       "      <th>categoria_delito</th>\n",
       "      <th>calle_hechos</th>\n",
       "      <th>calle_hechos2</th>\n",
       "      <th>colonia_hechos</th>\n",
       "      <th>alcaldia_hechos</th>\n",
       "      <th>competencia</th>\n",
       "      <th>longitud</th>\n",
       "      <th>latitud</th>\n",
       "      <th>tempo</th>\n",
       "    </tr>\n",
       "  </thead>\n",
       "  <tbody>\n",
       "    <tr>\n",
       "      <th>0</th>\n",
       "      <td>158</td>\n",
       "      <td>2016</td>\n",
       "      <td>Febrero</td>\n",
       "      <td>2016-02-02 08:00:00</td>\n",
       "      <td>2016</td>\n",
       "      <td>Febrero</td>\n",
       "      <td>2016-02-02T10:34:03</td>\n",
       "      <td>ROBO DE OBJETOS</td>\n",
       "      <td>INVESTIGACIÓN EN MIGUEL HIDALGO</td>\n",
       "      <td>MH-1</td>\n",
       "      <td>UI-1SD</td>\n",
       "      <td>DELITO DE BAJO IMPACTO</td>\n",
       "      <td>TONANTZIN SIN NUMERO</td>\n",
       "      <td>NA</td>\n",
       "      <td>TLAXPANA</td>\n",
       "      <td>MIGUEL HIDALGO</td>\n",
       "      <td>NA</td>\n",
       "      <td>-99.1702199999999</td>\n",
       "      <td>19.4410289998337</td>\n",
       "      <td>NA</td>\n",
       "    </tr>\n",
       "    <tr>\n",
       "      <th>1</th>\n",
       "      <td>159</td>\n",
       "      <td>2014</td>\n",
       "      <td>Julio</td>\n",
       "      <td>2014-07-18 12:00:00</td>\n",
       "      <td>2016</td>\n",
       "      <td>Febrero</td>\n",
       "      <td>2016-02-02T10:41:41</td>\n",
       "      <td>DENUNCIA DE HECHOS</td>\n",
       "      <td>INVESTIGACIÓN PARA LA ATENCIÓN DE DELITOS FINA...</td>\n",
       "      <td>T</td>\n",
       "      <td>UI-1SD</td>\n",
       "      <td>HECHO NO DELICTIVO</td>\n",
       "      <td>NO SE PRECISA</td>\n",
       "      <td>SOL</td>\n",
       "      <td>SAN BARTOLO AMEYALCO</td>\n",
       "      <td>ALVARO OBREGON</td>\n",
       "      <td>NA</td>\n",
       "      <td>-99.2701069999999</td>\n",
       "      <td>19.3295229998334</td>\n",
       "      <td>NA</td>\n",
       "    </tr>\n",
       "    <tr>\n",
       "      <th>2</th>\n",
       "      <td>160</td>\n",
       "      <td>2016</td>\n",
       "      <td>Enero</td>\n",
       "      <td>2016-01-30 20:00:00</td>\n",
       "      <td>2016</td>\n",
       "      <td>Febrero</td>\n",
       "      <td>2016-02-02T10:52:14</td>\n",
       "      <td>FALSIFICACION DE TITULOS AL PORTADOR Y DOCUMEN...</td>\n",
       "      <td>INVESTIGACIÓN EN MIGUEL HIDALGO</td>\n",
       "      <td>MH-1</td>\n",
       "      <td>UI-2SD</td>\n",
       "      <td>DELITO DE BAJO IMPACTO</td>\n",
       "      <td>CALZADA MEXICO TACUBA</td>\n",
       "      <td>NA</td>\n",
       "      <td>TACUBA</td>\n",
       "      <td>MIGUEL HIDALGO</td>\n",
       "      <td>NA</td>\n",
       "      <td>-99.1854189999999</td>\n",
       "      <td>19.4587269998332</td>\n",
       "      <td>NA</td>\n",
       "    </tr>\n",
       "    <tr>\n",
       "      <th>3</th>\n",
       "      <td>161</td>\n",
       "      <td>2016</td>\n",
       "      <td>Enero</td>\n",
       "      <td>2016-01-30 19:00:00</td>\n",
       "      <td>2016</td>\n",
       "      <td>Febrero</td>\n",
       "      <td>2016-02-02T11:14:30</td>\n",
       "      <td>VIOLENCIA FAMILIAR</td>\n",
       "      <td>JUZGADOS FAMILIARES</td>\n",
       "      <td>AEAM</td>\n",
       "      <td>UI-1SD</td>\n",
       "      <td>DELITO DE BAJO IMPACTO</td>\n",
       "      <td>CAMINO SUR</td>\n",
       "      <td>NA</td>\n",
       "      <td>CAMPESTRE ARAGÓN</td>\n",
       "      <td>GUSTAVO A MADERO</td>\n",
       "      <td>NA</td>\n",
       "      <td>-99.0806539999999</td>\n",
       "      <td>19.4822199998335</td>\n",
       "      <td>NA</td>\n",
       "    </tr>\n",
       "    <tr>\n",
       "      <th>4</th>\n",
       "      <td>162</td>\n",
       "      <td>2016</td>\n",
       "      <td>Enero</td>\n",
       "      <td>2016-01-12 12:00:00</td>\n",
       "      <td>2016</td>\n",
       "      <td>Febrero</td>\n",
       "      <td>2016-02-02T11:38:00</td>\n",
       "      <td>ROBO DE OBJETOS</td>\n",
       "      <td>INVESTIGACIÓN EN AZCAPOTZALCO</td>\n",
       "      <td>AZ-1</td>\n",
       "      <td>UI-2SD</td>\n",
       "      <td>DELITO DE BAJO IMPACTO</td>\n",
       "      <td>CALLE 10</td>\n",
       "      <td>NA</td>\n",
       "      <td>PORVENIR</td>\n",
       "      <td>AZCAPOTZALCO</td>\n",
       "      <td>NA</td>\n",
       "      <td>-99.1475569999999</td>\n",
       "      <td>19.471832999833</td>\n",
       "      <td>NA</td>\n",
       "    </tr>\n",
       "  </tbody>\n",
       "</table>\n",
       "</div>"
      ],
      "text/plain": [
       "   _id ao_hechos mes_hechos         fecha_hechos  ao_inicio mes_inicio  \\\n",
       "0  158      2016    Febrero  2016-02-02 08:00:00       2016    Febrero   \n",
       "1  159      2014      Julio  2014-07-18 12:00:00       2016    Febrero   \n",
       "2  160      2016      Enero  2016-01-30 20:00:00       2016    Febrero   \n",
       "3  161      2016      Enero  2016-01-30 19:00:00       2016    Febrero   \n",
       "4  162      2016      Enero  2016-01-12 12:00:00       2016    Febrero   \n",
       "\n",
       "          fecha_inicio                                             delito  \\\n",
       "0  2016-02-02T10:34:03                                    ROBO DE OBJETOS   \n",
       "1  2016-02-02T10:41:41                                 DENUNCIA DE HECHOS   \n",
       "2  2016-02-02T10:52:14  FALSIFICACION DE TITULOS AL PORTADOR Y DOCUMEN...   \n",
       "3  2016-02-02T11:14:30                                 VIOLENCIA FAMILIAR   \n",
       "4  2016-02-02T11:38:00                                    ROBO DE OBJETOS   \n",
       "\n",
       "                                            fiscalia agencia  \\\n",
       "0                    INVESTIGACIÓN EN MIGUEL HIDALGO    MH-1   \n",
       "1  INVESTIGACIÓN PARA LA ATENCIÓN DE DELITOS FINA...       T   \n",
       "2                    INVESTIGACIÓN EN MIGUEL HIDALGO    MH-1   \n",
       "3                                JUZGADOS FAMILIARES    AEAM   \n",
       "4                      INVESTIGACIÓN EN AZCAPOTZALCO    AZ-1   \n",
       "\n",
       "  unidad_investigacion        categoria_delito           calle_hechos  \\\n",
       "0               UI-1SD  DELITO DE BAJO IMPACTO   TONANTZIN SIN NUMERO   \n",
       "1               UI-1SD      HECHO NO DELICTIVO          NO SE PRECISA   \n",
       "2               UI-2SD  DELITO DE BAJO IMPACTO  CALZADA MEXICO TACUBA   \n",
       "3               UI-1SD  DELITO DE BAJO IMPACTO             CAMINO SUR   \n",
       "4               UI-2SD  DELITO DE BAJO IMPACTO               CALLE 10   \n",
       "\n",
       "  calle_hechos2        colonia_hechos   alcaldia_hechos competencia  \\\n",
       "0            NA              TLAXPANA    MIGUEL HIDALGO          NA   \n",
       "1           SOL  SAN BARTOLO AMEYALCO    ALVARO OBREGON          NA   \n",
       "2            NA                TACUBA    MIGUEL HIDALGO          NA   \n",
       "3            NA      CAMPESTRE ARAGÓN  GUSTAVO A MADERO          NA   \n",
       "4            NA              PORVENIR      AZCAPOTZALCO          NA   \n",
       "\n",
       "            longitud           latitud tempo  \n",
       "0  -99.1702199999999  19.4410289998337    NA  \n",
       "1  -99.2701069999999  19.3295229998334    NA  \n",
       "2  -99.1854189999999  19.4587269998332    NA  \n",
       "3  -99.0806539999999  19.4822199998335    NA  \n",
       "4  -99.1475569999999   19.471832999833    NA  "
      ]
     },
     "execution_count": null,
     "metadata": {},
     "output_type": "execute_result"
    }
   ],
   "source": [
    "carpetas = get_carpetas_from_api()\n",
    "carpetas.head()"
   ]
  },
  {
   "cell_type": "code",
   "execution_count": null,
   "metadata": {},
   "outputs": [],
   "source": []
  }
 ],
 "metadata": {
  "kernelspec": {
   "display_name": "Python 3 (ipykernel)",
   "language": "python",
   "name": "python3"
  }
 },
 "nbformat": 4,
 "nbformat_minor": 4
}
