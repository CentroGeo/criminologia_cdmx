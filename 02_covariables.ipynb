{
 "cells": [
  {
   "cell_type": "code",
   "execution_count": null,
   "id": "b8345e14-d64f-460f-812b-959b07d9c238",
   "metadata": {},
   "outputs": [],
   "source": [
    "# default_exp covariables"
   ]
  },
  {
   "cell_type": "markdown",
   "id": "d66ffd12-817d-4d90-bf8c-1decb16df5b3",
   "metadata": {},
   "source": [
    "# covariables\n",
    "\n",
    "> Construcción de covariables para analizar delitos"
   ]
  },
  {
   "cell_type": "code",
   "execution_count": null,
   "id": "5667ebab-4f2e-466d-b62e-13092ed4bacb",
   "metadata": {},
   "outputs": [],
   "source": [
    "#hide\n",
    "from nbdev.showdoc import *"
   ]
  },
  {
   "cell_type": "code",
   "execution_count": null,
   "id": "9d740cec-7957-4d5b-9b3a-de7f66063b33",
   "metadata": {},
   "outputs": [],
   "source": [
    "# export\n",
    "import os\n",
    "import glob\n",
    "from pathlib import Path\n",
    "import numpy as np\n",
    "import pandas as pd\n",
    "import geopandas as gpd\n",
    "import seaborn as sns\n",
    "import requests"
   ]
  },
  {
   "cell_type": "code",
   "execution_count": null,
   "id": "57f4b9d9-de81-4a7d-8d59-414e54fe0f9a",
   "metadata": {},
   "outputs": [],
   "source": [
    "# export\n",
    "DATA_PATH = \"datos/\"\n",
    "DOWNLOADS_PATH = \"datos/descargas/\""
   ]
  },
  {
   "cell_type": "markdown",
   "id": "8ee9a9c5-e727-460f-92d5-1b23c9ac5879",
   "metadata": {},
   "source": [
    "## descarga_datos_covariables"
   ]
  },
  {
   "cell_type": "code",
   "execution_count": null,
   "id": "f7b42276-a734-4919-8727-6a4601e19dc7",
   "metadata": {},
   "outputs": [],
   "source": [
    "# export\n",
    "def descarga_datos_covariables():\n",
    "    \"\"\"Descarga los archivos necesarios.\"\"\"\n",
    "    covariables_url = \"https://www.dropbox.com/s/s49lb476wpwu2p1/covariables.gpkg?dl=1\"\n",
    "    r = requests.get(covariables_url, allow_redirects=True)\n",
    "    open(DOWNLOADS_PATH + 'covariables.gpkg', 'wb').write(r.content)"
   ]
  },
  {
   "cell_type": "code",
   "execution_count": null,
   "id": "e325d958-4581-4f26-8be4-77f27f61441d",
   "metadata": {},
   "outputs": [],
   "source": [
    "descarga_datos_covariables()"
   ]
  },
  {
   "cell_type": "code",
   "execution_count": null,
   "id": "eb9a94de-f118-4192-8a4b-57be1712d561",
   "metadata": {},
   "outputs": [],
   "source": []
  }
 ],
 "metadata": {
  "kernelspec": {
   "display_name": "Python 3 (ipykernel)",
   "language": "python",
   "name": "python3"
  }
 },
 "nbformat": 4,
 "nbformat_minor": 5
}
