{
 "cells": [
  {
   "cell_type": "code",
   "execution_count": null,
   "id": "b8345e14-d64f-460f-812b-959b07d9c238",
   "metadata": {},
   "outputs": [],
   "source": [
    "# default_exp covariables"
   ]
  },
  {
   "cell_type": "markdown",
   "id": "d66ffd12-817d-4d90-bf8c-1decb16df5b3",
   "metadata": {},
   "source": [
    "# covariables\n",
    "\n",
    "> Construcción de covariables para analizar delitos"
   ]
  },
  {
   "cell_type": "code",
   "execution_count": null,
   "id": "5667ebab-4f2e-466d-b62e-13092ed4bacb",
   "metadata": {},
   "outputs": [],
   "source": [
    "#hide\n",
    "from nbdev.showdoc import *"
   ]
  },
  {
   "cell_type": "code",
   "execution_count": null,
   "id": "9d740cec-7957-4d5b-9b3a-de7f66063b33",
   "metadata": {},
   "outputs": [],
   "source": [
    "# export\n",
    "import os\n",
    "import glob\n",
    "from pathlib import Path\n",
    "import numpy as np\n",
    "import pandas as pd\n",
    "import geopandas as gpd\n",
    "import seaborn as sns\n",
    "import requests"
   ]
  },
  {
   "cell_type": "code",
   "execution_count": null,
   "id": "57f4b9d9-de81-4a7d-8d59-414e54fe0f9a",
   "metadata": {},
   "outputs": [],
   "source": [
    "# export\n",
    "DATA_PATH = \"datos/\"\n",
    "DOWNLOADS_PATH = \"datos/descargas/\""
   ]
  },
  {
   "cell_type": "markdown",
   "id": "8ee9a9c5-e727-460f-92d5-1b23c9ac5879",
   "metadata": {},
   "source": [
    "## descarga_datos_covariables"
   ]
  },
  {
   "cell_type": "code",
   "execution_count": null,
   "id": "f7b42276-a734-4919-8727-6a4601e19dc7",
   "metadata": {},
   "outputs": [],
   "source": [
    "# export\n",
    "def descarga_datos_covariables():\n",
    "    \"\"\"Descarga los archivos necesarios.\"\"\"\n",
    "    covariables_url = \"https://www.dropbox.com/s/s49lb476wpwu2p1/covariables.gpkg?dl=1\"\n",
    "    r = requests.get(covariables_url, allow_redirects=True)\n",
    "    open(DOWNLOADS_PATH + 'covariables.gpkg', 'wb').write(r.content)"
   ]
  },
  {
   "cell_type": "code",
   "execution_count": null,
   "id": "e325d958-4581-4f26-8be4-77f27f61441d",
   "metadata": {},
   "outputs": [],
   "source": [
    "descarga_datos_covariables()"
   ]
  },
  {
   "cell_type": "markdown",
   "id": "80f13038-a7cb-441a-af03-97d9023cd7d7",
   "metadata": {},
   "source": [
    "## get_diccionario_censo"
   ]
  },
  {
   "cell_type": "code",
   "execution_count": null,
   "id": "50f986e2-dcc8-42f6-9f83-a4884056f6a9",
   "metadata": {},
   "outputs": [],
   "source": [
    "def get_diccionario_censo():\n",
    "    \"\"\"Regresa un DataFrame con el diccionario de variables del censo.\"\"\"\n",
    "    dicionario = pd.read_csv(\"datos/diccionario_datos_ageb_urbana_09_cpv2020.csv\", skiprows=3)\n",
    "    diccionario = (dicionario\n",
    "                   .drop(range(0,8))\n",
    "                   .drop(columns='Núm.')\n",
    "                   .reset_index(drop=True)\n",
    "                   .rename({'Mnemónico':'Nombre del Campo'}, axis=1))\n",
    "    return diccionario"
   ]
  },
  {
   "cell_type": "code",
   "execution_count": null,
   "id": "eb018af6-103d-45e3-bbf2-23aee5a61ef2",
   "metadata": {},
   "outputs": [
    {
     "data": {
      "text/html": [
       "<div>\n",
       "<style scoped>\n",
       "    .dataframe tbody tr th:only-of-type {\n",
       "        vertical-align: middle;\n",
       "    }\n",
       "\n",
       "    .dataframe tbody tr th {\n",
       "        vertical-align: top;\n",
       "    }\n",
       "\n",
       "    .dataframe thead th {\n",
       "        text-align: right;\n",
       "    }\n",
       "</style>\n",
       "<table border=\"1\" class=\"dataframe\">\n",
       "  <thead>\n",
       "    <tr style=\"text-align: right;\">\n",
       "      <th></th>\n",
       "      <th>Indicador</th>\n",
       "      <th>Descripción</th>\n",
       "      <th>Nombre del Campo</th>\n",
       "      <th>Rangos</th>\n",
       "      <th>Longitud</th>\n",
       "    </tr>\n",
       "  </thead>\n",
       "  <tbody>\n",
       "    <tr>\n",
       "      <th>0</th>\n",
       "      <td>Población total</td>\n",
       "      <td>Total de personas que residen habitualmente en...</td>\n",
       "      <td>POBTOT</td>\n",
       "      <td>0...999999999</td>\n",
       "      <td>9</td>\n",
       "    </tr>\n",
       "    <tr>\n",
       "      <th>1</th>\n",
       "      <td>Población femenina</td>\n",
       "      <td>Total de mujeres que residen habitualmente en ...</td>\n",
       "      <td>POBFEM</td>\n",
       "      <td>0...999999999</td>\n",
       "      <td>9</td>\n",
       "    </tr>\n",
       "    <tr>\n",
       "      <th>2</th>\n",
       "      <td>Población masculina</td>\n",
       "      <td>Total de hombres que residen habitualmente en ...</td>\n",
       "      <td>POBMAS</td>\n",
       "      <td>0...999999999</td>\n",
       "      <td>9</td>\n",
       "    </tr>\n",
       "    <tr>\n",
       "      <th>3</th>\n",
       "      <td>Población de 0 a 2 años</td>\n",
       "      <td>Personas de 0 a 2 años de edad.</td>\n",
       "      <td>P_0A2</td>\n",
       "      <td>0…999999999</td>\n",
       "      <td>9</td>\n",
       "    </tr>\n",
       "    <tr>\n",
       "      <th>4</th>\n",
       "      <td>Población femenina de 0 a 2 años</td>\n",
       "      <td>Mujeres de 0 a 2 años de edad.</td>\n",
       "      <td>P_0A2_F</td>\n",
       "      <td>0.,.999999999</td>\n",
       "      <td>9</td>\n",
       "    </tr>\n",
       "  </tbody>\n",
       "</table>\n",
       "</div>"
      ],
      "text/plain": [
       "                          Indicador  \\\n",
       "0                   Población total   \n",
       "1                Población femenina   \n",
       "2               Población masculina   \n",
       "3           Población de 0 a 2 años   \n",
       "4  Población femenina de 0 a 2 años   \n",
       "\n",
       "                                         Descripción Nombre del Campo  \\\n",
       "0  Total de personas que residen habitualmente en...           POBTOT   \n",
       "1  Total de mujeres que residen habitualmente en ...           POBFEM   \n",
       "2  Total de hombres que residen habitualmente en ...           POBMAS   \n",
       "3                    Personas de 0 a 2 años de edad.            P_0A2   \n",
       "4                     Mujeres de 0 a 2 años de edad.          P_0A2_F   \n",
       "\n",
       "          Rangos  Longitud  \n",
       "0  0...999999999         9  \n",
       "1  0...999999999         9  \n",
       "2  0...999999999         9  \n",
       "3    0…999999999         9  \n",
       "4  0.,.999999999         9  "
      ]
     },
     "execution_count": null,
     "metadata": {},
     "output_type": "execute_result"
    }
   ],
   "source": [
    "diccionario = get_diccionario_censo()\n",
    "diccionario.head()"
   ]
  },
  {
   "cell_type": "code",
   "execution_count": null,
   "id": "bfa1bb09-6437-4a6e-a003-12ae167975ad",
   "metadata": {},
   "outputs": [],
   "source": []
  }
 ],
 "metadata": {
  "kernelspec": {
   "display_name": "Python 3 (ipykernel)",
   "language": "python",
   "name": "python3"
  }
 },
 "nbformat": 4,
 "nbformat_minor": 5
}
