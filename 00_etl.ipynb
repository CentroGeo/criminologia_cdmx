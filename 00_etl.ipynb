{
 "cells": [
  {
   "cell_type": "code",
   "execution_count": null,
   "metadata": {},
   "outputs": [],
   "source": [
    "# default_exp etl"
   ]
  },
  {
   "cell_type": "markdown",
   "metadata": {},
   "source": [
    "# etl\n",
    "\n",
    "> Utilerias para extraer y transformar datos sobre delincuencia en la CDMX."
   ]
  },
  {
   "cell_type": "code",
   "execution_count": null,
   "metadata": {},
   "outputs": [],
   "source": [
    "#hide\n",
    "from nbdev.showdoc import *"
   ]
  },
  {
   "cell_type": "code",
   "execution_count": null,
   "metadata": {},
   "outputs": [],
   "source": [
    "# export\n",
    "import os\n",
    "import glob\n",
    "import itertools\n",
    "from pathlib import Path\n",
    "import numpy as np\n",
    "import pandas as pd\n",
    "import geopandas as gpd\n",
    "from datetime import timedelta, date, datetime\n",
    "import seaborn as sns\n",
    "import requests"
   ]
  },
  {
   "cell_type": "markdown",
   "metadata": {},
   "source": [
    "## get_carpetas_from_api"
   ]
  },
  {
   "cell_type": "code",
   "execution_count": null,
   "metadata": {},
   "outputs": [],
   "source": [
    "# export\n",
    "def get_carpetas_from_api(limit=100):\n",
    "    \"\"\"Regresa un GeoDataFrame con los primeros `limit` registros de la base abierta.\n",
    "    \n",
    "    \"\"\"\n",
    "    url = f'https://datos.cdmx.gob.mx/api/3/action/datastore_search?resource_id=48fcb848-220c-4af0-839b-4fd8ac812c0f&limit={limit}'\n",
    "    r = requests.get(url, allow_redirects=True)\n",
    "    records = r.json()['result']['records'] \n",
    "    records = pd.DataFrame(records)\n",
    "    records.replace('NA', np.nan, inplace=True)\n",
    "    records.dropna(subset=['longitud', 'latitud'], how='any', inplace=True)\n",
    "    records = gpd.GeoDataFrame(records, geometry=gpd.points_from_xy(records.longitud, records.latitud))\n",
    "    records = records.set_crs(epsg=4326)\n",
    "    records['fecha_hechos'] = pd.to_datetime(records.fecha_hechos)\n",
    "    return records"
   ]
  },
  {
   "cell_type": "code",
   "execution_count": null,
   "metadata": {},
   "outputs": [],
   "source": [
    "carpetas = get_carpetas_from_api()\n",
    "assert type(carpetas) == gpd.GeoDataFrame"
   ]
  },
  {
   "cell_type": "markdown",
   "metadata": {},
   "source": [
    "## get_historico_carpetas"
   ]
  },
  {
   "cell_type": "code",
   "execution_count": null,
   "metadata": {},
   "outputs": [],
   "source": [
    "# export\n",
    "def get_historico_carpetas():\n",
    "    \"\"\"Regresa un GeoDataFrame con todos los registros de carpetas de investigación.\n",
    "    \n",
    "    \"\"\"\n",
    "    archivo = \"datos/descargas/carpetas_fiscalia.csv\"\n",
    "    url = \"https://archivo.datos.cdmx.gob.mx/fiscalia-general-de-justicia/carpetas-de-investigacion-fgj-de-la-ciudad-de-mexico/carpetas_completa_julio_2021.csv\"\n",
    "    r = requests.get(url, allow_redirects=True)\n",
    "    open(archivo, 'wb').write(r.content)\n",
    "    records = pd.read_csv(archivo)\n",
    "    records.replace('NA', np.nan, inplace=True)\n",
    "    records.dropna(subset=['longitud', 'latitud'], how='any', inplace=True)\n",
    "    records = gpd.GeoDataFrame(records, geometry=gpd.points_from_xy(records.longitud, records.latitud))\n",
    "    records = records.set_crs(epsg=4326)\n",
    "    records['fecha_hechos'] = pd.to_datetime(records.fecha_hechos)\n",
    "    return records"
   ]
  },
  {
   "cell_type": "code",
   "execution_count": null,
   "metadata": {},
   "outputs": [
    {
     "name": "stderr",
     "output_type": "stream",
     "text": [
      "/tmp/ipykernel_22689/329436171.py:1: DtypeWarning: Columns (15) have mixed types.Specify dtype option on import or set low_memory=False.\n",
      "  carpetas_todas = get_historico_carpetas()\n"
     ]
    }
   ],
   "source": [
    "carpetas_todas = get_historico_carpetas()\n",
    "assert type(carpetas_todas) == gpd.GeoDataFrame"
   ]
  },
  {
   "cell_type": "markdown",
   "metadata": {},
   "source": [
    "## agrega_ids_espaciales"
   ]
  },
  {
   "cell_type": "code",
   "execution_count": null,
   "metadata": {},
   "outputs": [],
   "source": [
    "# export\n",
    "def agrega_ids_espaciales(carpetas):\n",
    "    \"\"\"Agrega ids de colonias y cuadrantes a la base de carpetas.\"\"\"\n",
    "    colonias = gpd.read_file(\"datos/criminologia_capas.gpkg\", layer='colonias').drop(columns='colonia_geom_6362')\n",
    "    cuadrantes = gpd.read_file(\"datos/criminologia_capas.gpkg\", layer='cuadrantes')\n",
    "    carpetas = (gpd.tools.sjoin(carpetas, colonias[['colonia_cve', 'colonia_nombre', 'municipio_cvegeo', 'geometry']])\n",
    "                .drop(columns=['index_right'])\n",
    "               )\n",
    "    carpetas = (gpd.tools.sjoin(carpetas, cuadrantes[['cuadrante_id', 'geometry']])\n",
    "                .drop(columns=['index_right']))\n",
    "    return carpetas"
   ]
  },
  {
   "cell_type": "code",
   "execution_count": null,
   "metadata": {},
   "outputs": [],
   "source": [
    "carpetas = agrega_ids_espaciales(carpetas)\n",
    "assert 'colonia_cve' in carpetas.columns\n",
    "assert 'cuadrante_id' in carpetas.columns\n",
    "assert 'municipio_cvegeo' in carpetas.columns"
   ]
  },
  {
   "cell_type": "markdown",
   "metadata": {},
   "source": [
    "## agregar_categorias_de_usuario"
   ]
  },
  {
   "cell_type": "code",
   "execution_count": null,
   "metadata": {},
   "outputs": [],
   "source": [
    "# export\n",
    "def agregar_categorias_de_usuario(carpetas, archivo_categorias=\"datos/categorias_incidentes.csv\"):\n",
    "    \"\"\"Agrega una columna con categorías definidas por el usuario.\n",
    "    \n",
    "      Las categorías tienen que venir en un csv con columnas incidente y categoria que\n",
    "      relacionen las categorías del usuario con la columna delitos de la base de carpetas.\n",
    "    \"\"\"\n",
    "    if 'categoria' in carpetas.columns:\n",
    "        carpetas = carpetas.drop(columns='categoria')\n",
    "    if 'incidente' in carpetas.columns:\n",
    "        carpetas = carpetas.drop(columns='incidente')\n",
    "    categorias = pd.read_csv(archivo_categorias)\n",
    "    carpetas = (carpetas\n",
    "                .merge(categorias, left_on='delito', right_on='incidente', how='left')\n",
    "                .drop(columns='incidente'))\n",
    "    return carpetas"
   ]
  },
  {
   "cell_type": "code",
   "execution_count": null,
   "metadata": {},
   "outputs": [],
   "source": [
    "carpetas = agregar_categorias_de_usuario(carpetas)\n",
    "assert 'categoria' in carpetas.columns"
   ]
  },
  {
   "cell_type": "markdown",
   "metadata": {},
   "source": [
    "## exporta_datos_vusualizador"
   ]
  },
  {
   "cell_type": "code",
   "execution_count": null,
   "metadata": {},
   "outputs": [],
   "source": [
    "# export\n",
    "def exporta_datos_vusualizador(carpetas, archivo_resultado):\n",
    "    \"\"\" Escribe en archivo_resultado un csv para consumirse en el visualizador.\"\"\"\n",
    "    carpetas['lat'] = carpetas.geometry.y\n",
    "    carpetas['long'] = carpetas.geometry.x\n",
    "    carpetas = carpetas[['fecha_hechos', 'delito', 'categoria', 'municipio_cvegeo', 'colonia_cve', \n",
    "                         'cuadrante_id', 'categoria', 'lat', 'long']]\n",
    "    carpetas.to_csv(archivo_resultado)"
   ]
  },
  {
   "cell_type": "code",
   "execution_count": null,
   "metadata": {},
   "outputs": [],
   "source": [
    "exporta_datos_vusualizador(carpetas, \"datos/salidas/carpetas.csv\")"
   ]
  },
  {
   "cell_type": "markdown",
   "metadata": {},
   "source": [
    "## serie_de_tiempo_categoria"
   ]
  },
  {
   "cell_type": "code",
   "execution_count": null,
   "metadata": {},
   "outputs": [],
   "source": [
    "# export\n",
    "def serie_de_tiempo_categoria(carpetas, fecha_inicio, categoria, freq='M'):\n",
    "    \"\"\" Regresa una serie de tiempo con los agregados por `freq` de la `categoria`.\n",
    "        \n",
    "        parameters:\n",
    "        carpetas: incidentes, deben traer la columna categoria\n",
    "        fecha_inicio: pd.datetime fecha del inicio de la serie\n",
    "        categoria: nombre de la categoría a agregar (`agregar_categorias_de_usuario`)\n",
    "        freq: frecuencia de agregación (https://pandas.pydata.org/pandas-docs/stable/user_guide/timeseries.html#offset-aliases)\n",
    "    \"\"\"\n",
    "    carpetas = carpetas.loc[carpetas.fecha_hechos >= fecha_inicio]\n",
    "    carpetas = carpetas.loc[carpetas.categoria == categoria]\n",
    "    serie = (carpetas\n",
    "             .set_index('fecha_hechos')[['categoria']]\n",
    "             .resample(freq)\n",
    "             .size()\n",
    "             .reset_index()\n",
    "             .rename({0:categoria}, axis=1)\n",
    "            )\n",
    "    return serie"
   ]
  },
  {
   "cell_type": "code",
   "execution_count": null,
   "metadata": {},
   "outputs": [
    {
     "data": {
      "text/html": [
       "<div>\n",
       "<style scoped>\n",
       "    .dataframe tbody tr th:only-of-type {\n",
       "        vertical-align: middle;\n",
       "    }\n",
       "\n",
       "    .dataframe tbody tr th {\n",
       "        vertical-align: top;\n",
       "    }\n",
       "\n",
       "    .dataframe thead th {\n",
       "        text-align: right;\n",
       "    }\n",
       "</style>\n",
       "<table border=\"1\" class=\"dataframe\">\n",
       "  <thead>\n",
       "    <tr style=\"text-align: right;\">\n",
       "      <th></th>\n",
       "      <th>fecha_hechos</th>\n",
       "      <th>Robo a pasajero</th>\n",
       "    </tr>\n",
       "  </thead>\n",
       "  <tbody>\n",
       "    <tr>\n",
       "      <th>0</th>\n",
       "      <td>2016-01-31</td>\n",
       "      <td>310</td>\n",
       "    </tr>\n",
       "    <tr>\n",
       "      <th>1</th>\n",
       "      <td>2016-02-29</td>\n",
       "      <td>265</td>\n",
       "    </tr>\n",
       "    <tr>\n",
       "      <th>2</th>\n",
       "      <td>2016-03-31</td>\n",
       "      <td>275</td>\n",
       "    </tr>\n",
       "    <tr>\n",
       "      <th>3</th>\n",
       "      <td>2016-04-30</td>\n",
       "      <td>319</td>\n",
       "    </tr>\n",
       "    <tr>\n",
       "      <th>4</th>\n",
       "      <td>2016-05-31</td>\n",
       "      <td>256</td>\n",
       "    </tr>\n",
       "    <tr>\n",
       "      <th>...</th>\n",
       "      <td>...</td>\n",
       "      <td>...</td>\n",
       "    </tr>\n",
       "    <tr>\n",
       "      <th>62</th>\n",
       "      <td>2021-03-31</td>\n",
       "      <td>493</td>\n",
       "    </tr>\n",
       "    <tr>\n",
       "      <th>63</th>\n",
       "      <td>2021-04-30</td>\n",
       "      <td>472</td>\n",
       "    </tr>\n",
       "    <tr>\n",
       "      <th>64</th>\n",
       "      <td>2021-05-31</td>\n",
       "      <td>500</td>\n",
       "    </tr>\n",
       "    <tr>\n",
       "      <th>65</th>\n",
       "      <td>2021-06-30</td>\n",
       "      <td>435</td>\n",
       "    </tr>\n",
       "    <tr>\n",
       "      <th>66</th>\n",
       "      <td>2021-07-31</td>\n",
       "      <td>419</td>\n",
       "    </tr>\n",
       "  </tbody>\n",
       "</table>\n",
       "<p>67 rows × 2 columns</p>\n",
       "</div>"
      ],
      "text/plain": [
       "   fecha_hechos  Robo a pasajero\n",
       "0    2016-01-31              310\n",
       "1    2016-02-29              265\n",
       "2    2016-03-31              275\n",
       "3    2016-04-30              319\n",
       "4    2016-05-31              256\n",
       "..          ...              ...\n",
       "62   2021-03-31              493\n",
       "63   2021-04-30              472\n",
       "64   2021-05-31              500\n",
       "65   2021-06-30              435\n",
       "66   2021-07-31              419\n",
       "\n",
       "[67 rows x 2 columns]"
      ]
     },
     "execution_count": null,
     "metadata": {},
     "output_type": "execute_result"
    }
   ],
   "source": [
    "serie = serie_de_tiempo_categoria(carpetas_todas, pd.to_datetime('01/01/2016'), 'Robo a pasajero')\n",
    "serie"
   ]
  },
  {
   "cell_type": "code",
   "execution_count": null,
   "metadata": {},
   "outputs": [],
   "source": []
  }
 ],
 "metadata": {
  "kernelspec": {
   "display_name": "Python 3 (ipykernel)",
   "language": "python",
   "name": "python3"
  }
 },
 "nbformat": 4,
 "nbformat_minor": 4
}
