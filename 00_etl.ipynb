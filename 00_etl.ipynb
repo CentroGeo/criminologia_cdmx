{
 "cells": [
  {
   "cell_type": "code",
   "execution_count": null,
   "metadata": {},
   "outputs": [],
   "source": [
    "# default_exp etl"
   ]
  },
  {
   "cell_type": "markdown",
   "metadata": {},
   "source": [
    "# etl\n",
    "\n",
    "> Utilerias para extraer y transformar datos sobre delincuencia en la CDMX."
   ]
  },
  {
   "cell_type": "code",
   "execution_count": null,
   "metadata": {},
   "outputs": [],
   "source": [
    "#hide\n",
    "from nbdev.showdoc import *"
   ]
  },
  {
   "cell_type": "code",
   "execution_count": null,
   "metadata": {},
   "outputs": [],
   "source": [
    "# export\n",
    "import os\n",
    "import glob\n",
    "import itertools\n",
    "from pathlib import Path\n",
    "import numpy as np\n",
    "import pandas as pd\n",
    "import geopandas as gpd\n",
    "from datetime import timedelta, date, datetime\n",
    "import seaborn as sns\n",
    "import requests\n",
    "import h3\n",
    "from shapely.geometry import Polygon"
   ]
  },
  {
   "cell_type": "code",
   "execution_count": null,
   "metadata": {},
   "outputs": [],
   "source": [
    "# export\n",
    "DATA_PATH = \"datos/\"\n",
    "DOWNLOADS_PATH = \"datos/descargas/\""
   ]
  },
  {
   "cell_type": "markdown",
   "metadata": {},
   "source": [
    "## procesa_registros"
   ]
  },
  {
   "cell_type": "code",
   "execution_count": null,
   "metadata": {},
   "outputs": [],
   "source": [
    "# export\n",
    "def procesa_registros(records):\n",
    "    \"\"\"Hace el procesamineto básico de los records de carpetas o víctimas.\"\"\"\n",
    "    records.replace('NA', np.nan, inplace=True)\n",
    "    records.dropna(subset=['longitud', 'latitud'], how='any', inplace=True)\n",
    "    records = gpd.GeoDataFrame(records, geometry=gpd.points_from_xy(records.longitud, records.latitud))\n",
    "    records = records.set_crs(epsg=4326)\n",
    "    return records"
   ]
  },
  {
   "cell_type": "markdown",
   "metadata": {},
   "source": [
    "## get_carpetas_from_api"
   ]
  },
  {
   "cell_type": "code",
   "execution_count": null,
   "metadata": {},
   "outputs": [],
   "source": [
    "# export\n",
    "def get_carpetas_from_api(limit=100):\n",
    "    \"\"\"Regresa un GeoDataFrame con los primeros `limit` registros de la base abierta.\"\"\"\n",
    "    url = f'https://datos.cdmx.gob.mx/api/3/action/datastore_search?resource_id=48fcb848-220c-4af0-839b-4fd8ac812c0f&limit={limit}'\n",
    "    r = requests.get(url, allow_redirects=True)\n",
    "    records = r.json()['result']['records']\n",
    "    records = pd.DataFrame(records)\n",
    "    records = procesa_registros(records)\n",
    "    records['fecha_hechos'] = pd.to_datetime(records.fecha_hechos, dayfirst=True)\n",
    "    return records"
   ]
  },
  {
   "cell_type": "code",
   "execution_count": null,
   "metadata": {},
   "outputs": [],
   "source": [
    "carpetas = get_carpetas_from_api()\n",
    "assert type(carpetas) == gpd.GeoDataFrame"
   ]
  },
  {
   "cell_type": "markdown",
   "metadata": {},
   "source": [
    "## get_victimas_from_api"
   ]
  },
  {
   "cell_type": "code",
   "execution_count": null,
   "metadata": {},
   "outputs": [],
   "source": [
    "# export\n",
    "def get_victimas_from_api(limit=100):\n",
    "    \"\"\"Regresa un GeoDataFrame con los primeros `limit` registros de la base abierta de víctimas.\"\"\"\n",
    "    url = f'https://datos.cdmx.gob.mx/api/3/action/datastore_search?resource_id=d543a7b1-f8cb-439f-8a5c-e56c5479eeb5&limit={limit}'\n",
    "    r = requests.get(url, allow_redirects=True)\n",
    "    records = r.json()['result']['records']\n",
    "    records = pd.DataFrame(records)\n",
    "    records = procesa_registros(records)\n",
    "    records['FechaHecho'] = pd.to_datetime(records.FechaHecho, dayfirst=True)\n",
    "    records = records.rename({'FechaHecho':'fecha_hechos',\n",
    "                              'Delito': 'delito',\n",
    "                              'Categoria': 'categoria'}, axis=1)\n",
    "    return records"
   ]
  },
  {
   "cell_type": "code",
   "execution_count": null,
   "metadata": {},
   "outputs": [],
   "source": [
    "victimas = get_victimas_from_api()\n",
    "assert type(victimas) == gpd.GeoDataFrame"
   ]
  },
  {
   "cell_type": "markdown",
   "metadata": {},
   "source": [
    "## get_historico_carpetas"
   ]
  },
  {
   "cell_type": "code",
   "execution_count": null,
   "metadata": {},
   "outputs": [],
   "source": [
    "# export\n",
    "def get_historico_carpetas():\n",
    "    \"\"\"Regresa un GeoDataFrame con todos los registros de carpetas de investigación.\"\"\"\n",
    "    archivo = os.path.join(DOWNLOADS_PATH, 'carpetas_fiscalia.csv')\n",
    "    url = \"https://archivo.datos.cdmx.gob.mx/fiscalia-general-de-justicia/carpetas-de-investigacion-fgj-de-la-ciudad-de-mexico/carpetas_completa_julio_2021.csv\"\n",
    "    r = requests.get(url, allow_redirects=True)\n",
    "    open(archivo, 'wb').write(r.content)\n",
    "    records = pd.read_csv(archivo, low_memory=False)\n",
    "    records = procesa_registros(records)\n",
    "    records['fecha_hechos'] = pd.to_datetime(records.fecha_hechos, dayfirst=True)\n",
    "    return records"
   ]
  },
  {
   "cell_type": "code",
   "execution_count": null,
   "metadata": {},
   "outputs": [],
   "source": [
    "carpetas_todas = get_historico_carpetas()\n",
    "assert type(carpetas_todas) == gpd.GeoDataFrame"
   ]
  },
  {
   "cell_type": "markdown",
   "metadata": {},
   "source": [
    "## get_historico_victimas"
   ]
  },
  {
   "cell_type": "code",
   "execution_count": null,
   "metadata": {},
   "outputs": [],
   "source": [
    "# export\n",
    "def get_historico_victimas():\n",
    "    \"\"\"Regresa un GeoDataFrame con todos los registros de victimas en carpetas de investigación.\"\"\"\n",
    "    archivo = os.path.join(DOWNLOADS_PATH, 'victimas_carpetas_fiscalia.csv')\n",
    "    url = \"https://archivo.datos.cdmx.gob.mx/fiscalia-general-de-justicia/victimas-en-carpetas-de-investigacion-fgj/victimas_completa_enero_2022.csv\"\n",
    "    r = requests.get(url, allow_redirects=True)\n",
    "    open(archivo, 'wb').write(r.content)\n",
    "    records = pd.read_csv(archivo)\n",
    "    records = procesa_registros(records)\n",
    "    records['FechaHecho'] = pd.to_datetime(records.FechaHecho, dayfirst=True)\n",
    "    records = records.rename({'FechaHecho':'fecha_hechos',\n",
    "                              'Delito': 'delito',\n",
    "                              'Categoria': 'categoria'}, axis=1)\n",
    "    return records"
   ]
  },
  {
   "cell_type": "code",
   "execution_count": null,
   "metadata": {},
   "outputs": [],
   "source": [
    "victimas_todas = get_historico_victimas()\n",
    "assert type(victimas_todas) == gpd.GeoDataFrame"
   ]
  },
  {
   "cell_type": "markdown",
   "metadata": {},
   "source": [
    "## get_carpetas_desde_archivo"
   ]
  },
  {
   "cell_type": "code",
   "execution_count": null,
   "metadata": {},
   "outputs": [],
   "source": [
    "# export\n",
    "def get_carpetas_desde_archivo(archivo):\n",
    "    \"\"\"Regresa un GeoDataFrame con los registros leídos de un archivo\"\"\"\n",
    "    records = pd.read_csv(archivo, low_memory=False)\n",
    "    records = procesa_registros(records)\n",
    "    records['fecha_hechos'] = pd.to_datetime(records.fecha_hechos, dayfirst=True)\n",
    "    return records"
   ]
  },
  {
   "cell_type": "code",
   "execution_count": null,
   "metadata": {},
   "outputs": [],
   "source": [
    "carpetas_todas = get_carpetas_desde_archivo(\"datos/descargas/carpetas_fiscalia.csv\")\n",
    "assert type(carpetas_todas) == gpd.GeoDataFrame"
   ]
  },
  {
   "cell_type": "markdown",
   "metadata": {},
   "source": [
    "## get_victimas_desde_archivo"
   ]
  },
  {
   "cell_type": "code",
   "execution_count": null,
   "metadata": {},
   "outputs": [],
   "source": [
    "# export\n",
    "def get_victimas_desde_archivo(archivo):\n",
    "    \"\"\"Regresa un GeoDataFrame con los registros leídos de un archivo\"\"\"\n",
    "    records = pd.read_csv(archivo)\n",
    "    records = procesa_registros(records)\n",
    "    records['FechaHecho'] = pd.to_datetime(records.FechaHecho, dayfirst=True)\n",
    "    records = records.rename({'FechaHecho':'fecha_hechos',\n",
    "                              'Delito': 'delito',\n",
    "                              'Categoria': 'categoria'}, axis=1)\n",
    "    return records"
   ]
  },
  {
   "cell_type": "code",
   "execution_count": null,
   "metadata": {},
   "outputs": [],
   "source": [
    "carpetas_todas = get_victimas_desde_archivo(\"datos/descargas/victimas_carpetas_fiscalia.csv\")\n",
    "assert type(carpetas_todas) == gpd.GeoDataFrame"
   ]
  },
  {
   "cell_type": "markdown",
   "metadata": {},
   "source": [
    "## agrega_ids_espaciales"
   ]
  },
  {
   "cell_type": "code",
   "execution_count": null,
   "metadata": {},
   "outputs": [],
   "source": [
    "# export\n",
    "def agrega_ids_espaciales(carpetas):\n",
    "    \"\"\"Agrega ids de colonias y cuadrantes a la base de carpetas.\"\"\"\n",
    "    if 'colonia_cve' in carpetas.columns:\n",
    "        carpetas = carpetas.drop(columns='colonia_cve')\n",
    "    if 'cuadrante_id' in carpetas.columns:\n",
    "        carpetas = carpetas.drop(columns='cuadrante_id')\n",
    "    if 'municipio_cvegeo' in carpetas.columns:\n",
    "        carpetas = carpetas.drop(columns='municipio_cvegeo')\n",
    "\n",
    "    shapes = os.path.join(DATA_PATH, 'criminologia_capas.gpkg')\n",
    "    colonias = gpd.read_file(shapes, layer='colonias').drop(columns='colonia_geom_6362')\n",
    "    cuadrantes = gpd.read_file(shapes, layer='cuadrantes')\n",
    "    carpetas = (gpd.tools.sjoin(carpetas, colonias[['colonia_cve', 'colonia_nombre', 'municipio_cvegeo', 'geometry']])\n",
    "                .drop(columns=['index_right'])\n",
    "               )\n",
    "    carpetas = (gpd.tools.sjoin(carpetas, cuadrantes[['cuadrante_id', 'geometry']])\n",
    "                .drop(columns=['index_right']))\n",
    "    return carpetas"
   ]
  },
  {
   "cell_type": "code",
   "execution_count": null,
   "metadata": {},
   "outputs": [],
   "source": [
    "carpetas = agrega_ids_espaciales(carpetas)\n",
    "assert 'colonia_cve' in carpetas.columns\n",
    "assert 'cuadrante_id' in carpetas.columns\n",
    "assert 'municipio_cvegeo' in carpetas.columns\n",
    "victimas = agrega_ids_espaciales(victimas)\n",
    "assert 'colonia_cve' in victimas.columns\n",
    "assert 'cuadrante_id' in victimas.columns\n",
    "assert 'municipio_cvegeo' in victimas.columns"
   ]
  },
  {
   "cell_type": "markdown",
   "metadata": {},
   "source": [
    "## agregar_categorias_carpetas"
   ]
  },
  {
   "cell_type": "code",
   "execution_count": null,
   "metadata": {},
   "outputs": [],
   "source": [
    "# export\n",
    "def agregar_categorias_carpetas(carpetas, archivo_categorias=\"datos/categorias_carpetas.csv\"):\n",
    "    \"\"\"Agrega una columna con categorías definidas por el usuario.\n",
    "\n",
    "      Las categorías tienen que venir en un csv con columnas incidente y categoria que\n",
    "      relacionen las categorías del usuario con la columna delitos de la base de carpetas.\n",
    "    \"\"\"\n",
    "    if 'categoria' in carpetas.columns:\n",
    "        carpetas = carpetas.drop(columns='categoria')\n",
    "    if 'incidente' in carpetas.columns:\n",
    "        carpetas = carpetas.drop(columns='incidente')\n",
    "    categorias = pd.read_csv(archivo_categorias)\n",
    "    carpetas = (carpetas\n",
    "                .merge(categorias, left_on='delito', right_on='incidente', how='left')\n",
    "                .drop(columns='incidente'))\n",
    "    return carpetas"
   ]
  },
  {
   "cell_type": "code",
   "execution_count": null,
   "metadata": {},
   "outputs": [],
   "source": [
    "carpetas = agregar_categorias_carpetas(carpetas)\n",
    "assert 'categoria' in carpetas.columns"
   ]
  },
  {
   "cell_type": "markdown",
   "metadata": {},
   "source": [
    "## agregar_categorias_victimas"
   ]
  },
  {
   "cell_type": "code",
   "execution_count": null,
   "metadata": {},
   "outputs": [],
   "source": [
    "# export\n",
    "def agregar_categorias_victimas(carpetas, archivo_categorias=\"datos/categorias_victimas.csv\"):\n",
    "    \"\"\"Columnas con niveles definidos por el usuario\n",
    "\n",
    "      Las categorías tienen que venir en un csv con columnas llamadas Nivel 1, Nivel 2 ...\n",
    "      que relacionen los niveles con las columnas Delito y Categoría en la base de Víctimas.\n",
    "    \"\"\"\n",
    "    columnas_nivel = [c for c in carpetas.columns if 'Nivel' in c]\n",
    "    if len(columnas_nivel):\n",
    "        carpetas = carpetas.drop(columns=columnas_nivel)\n",
    "    categorias = pd.read_csv(archivo_categorias)\n",
    "    carpetas = (carpetas\n",
    "                .merge(categorias, left_on='delito', right_on='Delito', how='left')\n",
    "                .rename({'categoria_x': 'categoria'}, axis=1)\n",
    "                )\n",
    "    return carpetas"
   ]
  },
  {
   "cell_type": "code",
   "execution_count": null,
   "metadata": {},
   "outputs": [],
   "source": [
    "victimas = agregar_categorias_victimas(victimas)\n",
    "assert 'Nivel 1' in victimas.columns"
   ]
  },
  {
   "cell_type": "markdown",
   "metadata": {},
   "source": [
    "## exporta_datos_visualizador"
   ]
  },
  {
   "cell_type": "code",
   "execution_count": null,
   "metadata": {},
   "outputs": [],
   "source": [
    "# export\n",
    "def exporta_datos_visualizador(carpetas, archivo_resultado,\n",
    "                               fecha_inicio=pd.to_datetime('01/01/2019'),\n",
    "                               tipo='victimas'):\n",
    "    \"\"\" Escribe en archivo_resultado un csv para consumirse en el visualizador.\n",
    "\n",
    "        La opción tipo=victimas/carpetas controla si los datos de entrada son carpetas o victimas.\n",
    "    \"\"\"\n",
    "    columnas = ['fecha_hechos', 'delito', 'municipio_cvegeo',\n",
    "                'colonia_cve', 'cuadrante_id', 'categoria', 'lat', 'long']\n",
    "    if tipo == 'carpetas':\n",
    "        columnas = columnas + ['categoria']\n",
    "    elif tipo == 'victimas':\n",
    "        columnas_nivel = [c for c in carpetas.columns if 'Nivel' in c]\n",
    "        columnas = columnas + columnas_nivel\n",
    "    carpetas['lat'] = carpetas.geometry.y\n",
    "    carpetas['long'] = carpetas.geometry.x\n",
    "    carpetas = carpetas[columnas]\n",
    "    carpetas = carpetas.loc[carpetas.fecha_hechos >= fecha_inicio]\n",
    "    carpetas.to_csv(archivo_resultado)"
   ]
  },
  {
   "cell_type": "code",
   "execution_count": null,
   "metadata": {},
   "outputs": [],
   "source": [
    "exporta_datos_visualizador(carpetas, \"datos/salidas/carpetas.csv\", tipo='carpetas')\n",
    "exporta_datos_visualizador(victimas, \"datos/salidas/victimas.csv\", tipo='victimas')"
   ]
  },
  {
   "cell_type": "markdown",
   "metadata": {},
   "source": [
    "## serie_de_tiempo_categoria"
   ]
  },
  {
   "cell_type": "code",
   "execution_count": null,
   "metadata": {},
   "outputs": [],
   "source": [
    "# export\n",
    "def serie_de_tiempo_categoria(carpetas, fecha_inicio, categoria, freq='M'):\n",
    "    \"\"\" Regresa una serie de tiempo con los agregados por `freq` de la `categoria`.\n",
    "\n",
    "        parameters:\n",
    "        carpetas: incidentes, deben traer la columna categoria\n",
    "        fecha_inicio: pd.datetime fecha del inicio de la serie\n",
    "        categoria: nombre de la categoría a agregar (`agregar_categorias_de_usuario`)\n",
    "        freq: frecuencia de agregación (https://pandas.pydata.org/pandas-docs/stable/user_guide/timeseries.html#offset-aliases)\n",
    "    \"\"\"\n",
    "    carpetas = carpetas.loc[carpetas.fecha_hechos >= fecha_inicio]\n",
    "    carpetas = carpetas.loc[carpetas.categoria == categoria]\n",
    "    serie = (carpetas\n",
    "             .set_index('fecha_hechos')[['categoria']]\n",
    "             .resample(freq)\n",
    "             .size()\n",
    "             .reset_index()\n",
    "             .rename({0:categoria}, axis=1)\n",
    "            )\n",
    "    return serie"
   ]
  },
  {
   "cell_type": "code",
   "execution_count": null,
   "metadata": {},
   "outputs": [
    {
     "data": {
      "text/html": [
       "<div>\n",
       "<style scoped>\n",
       "    .dataframe tbody tr th:only-of-type {\n",
       "        vertical-align: middle;\n",
       "    }\n",
       "\n",
       "    .dataframe tbody tr th {\n",
       "        vertical-align: top;\n",
       "    }\n",
       "\n",
       "    .dataframe thead th {\n",
       "        text-align: right;\n",
       "    }\n",
       "</style>\n",
       "<table border=\"1\" class=\"dataframe\">\n",
       "  <thead>\n",
       "    <tr style=\"text-align: right;\">\n",
       "      <th></th>\n",
       "      <th>fecha_hechos</th>\n",
       "      <th>Robo a pasajero</th>\n",
       "    </tr>\n",
       "  </thead>\n",
       "  <tbody>\n",
       "    <tr>\n",
       "      <th>0</th>\n",
       "      <td>2016-11-30</td>\n",
       "      <td>2</td>\n",
       "    </tr>\n",
       "    <tr>\n",
       "      <th>1</th>\n",
       "      <td>2016-12-31</td>\n",
       "      <td>0</td>\n",
       "    </tr>\n",
       "    <tr>\n",
       "      <th>2</th>\n",
       "      <td>2017-01-31</td>\n",
       "      <td>1</td>\n",
       "    </tr>\n",
       "    <tr>\n",
       "      <th>3</th>\n",
       "      <td>2017-02-28</td>\n",
       "      <td>1</td>\n",
       "    </tr>\n",
       "  </tbody>\n",
       "</table>\n",
       "</div>"
      ],
      "text/plain": [
       "  fecha_hechos  Robo a pasajero\n",
       "0   2016-11-30                2\n",
       "1   2016-12-31                0\n",
       "2   2017-01-31                1\n",
       "3   2017-02-28                1"
      ]
     },
     "execution_count": null,
     "metadata": {},
     "output_type": "execute_result"
    }
   ],
   "source": [
    "serie = serie_de_tiempo_categoria(carpetas, pd.to_datetime('01/01/2016'), 'Robo a pasajero')\n",
    "serie"
   ]
  },
  {
   "cell_type": "markdown",
   "metadata": {},
   "source": [
    "## serie_tiempo_categorias_unidades"
   ]
  },
  {
   "cell_type": "code",
   "execution_count": null,
   "metadata": {},
   "outputs": [],
   "source": [
    "# export\n",
    "def serie_tiempo_categorias_unidades(datos, fecha_inicio, tipo='victimas',\n",
    "                                     geografia='colonias',freq='W',\n",
    "                                     categorias=['Nivel 1']):\n",
    "    \"\"\" Regresa una serie de tiempo con los agregados por `freq` para categorias y\n",
    "        la geografía especificada.\n",
    "\n",
    "        parameters:\n",
    "        datos: víctimas/carpetas, deben tener agregadas las categorías de usuario\n",
    "        fecha_inicio: pd.datetime fecha del inicio de la serie\n",
    "        tipo: carpetas/victimas\n",
    "        geografia: 'colonias/cuadrantes'\n",
    "        freq: frecuencia de agregación (https://pandas.pydata.org/pandas-docs/stable/user_guide/timeseries.html#offset-aliases)\n",
    "        categorias: lista de las categorías para agregar. Las columnas deben existir en la base\n",
    "    \"\"\"\n",
    "    dummies = pd.get_dummies(datos[categorias])\n",
    "    datos = datos.loc[datos.fecha_hechos >= fecha_inicio]\n",
    "    datos = pd.concat([datos, dummies], axis=1)\n",
    "    if geografia == 'colonias':\n",
    "        id_vars = ['colonia_nombre', 'colonia_cve']\n",
    "    elif geografia == 'cuadrantes':\n",
    "        id_vars = ['cuadrante_id']\n",
    "    else:\n",
    "        return #RAISE!!!!!\n",
    "    serie = (datos[['fecha_hechos', *id_vars, *list(dummies.columns)]]\n",
    "             .set_index('fecha_hechos')\n",
    "             .groupby([pd.Grouper(freq=\"M\"), *id_vars])\n",
    "             .sum())\n",
    "    serie = serie.reset_index().melt(id_vars=['fecha_hechos', *id_vars])\n",
    "    return serie"
   ]
  },
  {
   "cell_type": "code",
   "execution_count": null,
   "metadata": {},
   "outputs": [
    {
     "data": {
      "text/html": [
       "<div>\n",
       "<style scoped>\n",
       "    .dataframe tbody tr th:only-of-type {\n",
       "        vertical-align: middle;\n",
       "    }\n",
       "\n",
       "    .dataframe tbody tr th {\n",
       "        vertical-align: top;\n",
       "    }\n",
       "\n",
       "    .dataframe thead th {\n",
       "        text-align: right;\n",
       "    }\n",
       "</style>\n",
       "<table border=\"1\" class=\"dataframe\">\n",
       "  <thead>\n",
       "    <tr style=\"text-align: right;\">\n",
       "      <th></th>\n",
       "      <th>fecha_hechos</th>\n",
       "      <th>colonia_nombre</th>\n",
       "      <th>colonia_cve</th>\n",
       "      <th>variable</th>\n",
       "      <th>value</th>\n",
       "    </tr>\n",
       "  </thead>\n",
       "  <tbody>\n",
       "    <tr>\n",
       "      <th>0</th>\n",
       "      <td>2019-06-30</td>\n",
       "      <td>LOS REYES (PBLO)</td>\n",
       "      <td>1304.0</td>\n",
       "      <td>Nivel 1_Abuso Sexual</td>\n",
       "      <td>0</td>\n",
       "    </tr>\n",
       "    <tr>\n",
       "      <th>1</th>\n",
       "      <td>2019-12-31</td>\n",
       "      <td>SANTA CECILIA TEPETLAPA (PBLO)</td>\n",
       "      <td>1800.0</td>\n",
       "      <td>Nivel 1_Abuso Sexual</td>\n",
       "      <td>0</td>\n",
       "    </tr>\n",
       "    <tr>\n",
       "      <th>2</th>\n",
       "      <td>2020-06-30</td>\n",
       "      <td>MINERVA</td>\n",
       "      <td>1302.0</td>\n",
       "      <td>Nivel 1_Abuso Sexual</td>\n",
       "      <td>0</td>\n",
       "    </tr>\n",
       "    <tr>\n",
       "      <th>3</th>\n",
       "      <td>2020-08-31</td>\n",
       "      <td>SANTA MARTHA ACATITLA_(PBLO)</td>\n",
       "      <td>1319.0</td>\n",
       "      <td>Nivel 1_Abuso Sexual</td>\n",
       "      <td>0</td>\n",
       "    </tr>\n",
       "    <tr>\n",
       "      <th>4</th>\n",
       "      <td>2020-09-30</td>\n",
       "      <td>SAN JUAN DE ARAGON 1A SECCION (U HAB) I</td>\n",
       "      <td>50.0</td>\n",
       "      <td>Nivel 1_Abuso Sexual</td>\n",
       "      <td>0</td>\n",
       "    </tr>\n",
       "    <tr>\n",
       "      <th>...</th>\n",
       "      <td>...</td>\n",
       "      <td>...</td>\n",
       "      <td>...</td>\n",
       "      <td>...</td>\n",
       "      <td>...</td>\n",
       "    </tr>\n",
       "    <tr>\n",
       "      <th>1113</th>\n",
       "      <td>2021-02-28</td>\n",
       "      <td>SANTIAGO AHUIZOTLA (PBLO)</td>\n",
       "      <td>99.0</td>\n",
       "      <td>Nivel 1_Violencia Familiar</td>\n",
       "      <td>0</td>\n",
       "    </tr>\n",
       "    <tr>\n",
       "      <th>1114</th>\n",
       "      <td>2021-02-28</td>\n",
       "      <td>TIERRA COLORADA</td>\n",
       "      <td>453.0</td>\n",
       "      <td>Nivel 1_Violencia Familiar</td>\n",
       "      <td>0</td>\n",
       "    </tr>\n",
       "    <tr>\n",
       "      <th>1115</th>\n",
       "      <td>2021-02-28</td>\n",
       "      <td>TLAZINTLA</td>\n",
       "      <td>899.0</td>\n",
       "      <td>Nivel 1_Violencia Familiar</td>\n",
       "      <td>0</td>\n",
       "    </tr>\n",
       "    <tr>\n",
       "      <th>1116</th>\n",
       "      <td>2021-02-28</td>\n",
       "      <td>VERTIZ NARVARTE</td>\n",
       "      <td>935.0</td>\n",
       "      <td>Nivel 1_Violencia Familiar</td>\n",
       "      <td>0</td>\n",
       "    </tr>\n",
       "    <tr>\n",
       "      <th>1117</th>\n",
       "      <td>2021-02-28</td>\n",
       "      <td>XALPA III</td>\n",
       "      <td>1397.0</td>\n",
       "      <td>Nivel 1_Violencia Familiar</td>\n",
       "      <td>0</td>\n",
       "    </tr>\n",
       "  </tbody>\n",
       "</table>\n",
       "<p>1118 rows × 5 columns</p>\n",
       "</div>"
      ],
      "text/plain": [
       "     fecha_hechos                           colonia_nombre  colonia_cve  \\\n",
       "0      2019-06-30                         LOS REYES (PBLO)       1304.0   \n",
       "1      2019-12-31           SANTA CECILIA TEPETLAPA (PBLO)       1800.0   \n",
       "2      2020-06-30                                  MINERVA       1302.0   \n",
       "3      2020-08-31             SANTA MARTHA ACATITLA_(PBLO)       1319.0   \n",
       "4      2020-09-30  SAN JUAN DE ARAGON 1A SECCION (U HAB) I         50.0   \n",
       "...           ...                                      ...          ...   \n",
       "1113   2021-02-28                SANTIAGO AHUIZOTLA (PBLO)         99.0   \n",
       "1114   2021-02-28                          TIERRA COLORADA        453.0   \n",
       "1115   2021-02-28                                TLAZINTLA        899.0   \n",
       "1116   2021-02-28                          VERTIZ NARVARTE        935.0   \n",
       "1117   2021-02-28                                XALPA III       1397.0   \n",
       "\n",
       "                        variable  value  \n",
       "0           Nivel 1_Abuso Sexual      0  \n",
       "1           Nivel 1_Abuso Sexual      0  \n",
       "2           Nivel 1_Abuso Sexual      0  \n",
       "3           Nivel 1_Abuso Sexual      0  \n",
       "4           Nivel 1_Abuso Sexual      0  \n",
       "...                          ...    ...  \n",
       "1113  Nivel 1_Violencia Familiar      0  \n",
       "1114  Nivel 1_Violencia Familiar      0  \n",
       "1115  Nivel 1_Violencia Familiar      0  \n",
       "1116  Nivel 1_Violencia Familiar      0  \n",
       "1117  Nivel 1_Violencia Familiar      0  \n",
       "\n",
       "[1118 rows x 5 columns]"
      ]
     },
     "execution_count": null,
     "metadata": {},
     "output_type": "execute_result"
    }
   ],
   "source": [
    "serie = serie_tiempo_categorias_unidades(victimas, pd.to_datetime('01/01/2019'))\n",
    "serie"
   ]
  },
  {
   "cell_type": "markdown",
   "metadata": {},
   "source": [
    "## punto_to_hexid"
   ]
  },
  {
   "cell_type": "code",
   "execution_count": null,
   "metadata": {},
   "outputs": [],
   "source": [
    "# export\n",
    "def punto_to_hexid(punto, resolution):\n",
    "    \"\"\"Regresa el hexid (h3) del punto.\"\"\"\n",
    "    return h3.geo_to_h3(punto.y, punto.x, resolution)"
   ]
  },
  {
   "cell_type": "markdown",
   "metadata": {},
   "source": [
    "## agrega_en_hexagonos"
   ]
  },
  {
   "cell_type": "code",
   "execution_count": null,
   "metadata": {},
   "outputs": [],
   "source": [
    "# export\n",
    "def agrega_en_hexagonos(puntos, resolution):\n",
    "    \"\"\"Regresa un GeoDataFrame con las cuentas de puntos agregadas en hexágonos.\n",
    "\n",
    "       params:\n",
    "       puntos: GeoDataFrame: los puntos a agregar\n",
    "       resolution: int: la resolución en uber.h3\n",
    "    \"\"\"\n",
    "    puntos.loc[:,'hex_id'] = puntos.loc[:,'geometry'].apply(punto_to_hexid, args=[resolution])\n",
    "    by_hex = puntos.groupby('hex_id').size().reset_index()\n",
    "    # by_hex['geometry'] = by_hex['hex_id'].apply(lambda hex_id: Polygon(h3.h3_to_geo_boundary(hex_id)))\n",
    "    by_hex['geometry'] = by_hex['hex_id'].apply(lambda hex_id: Polygon([x[::-1] for x in h3.h3_to_geo_boundary(hex_id)]))\n",
    "    by_hex = gpd.GeoDataFrame(by_hex).rename({0:'incidentes'}, axis=1).set_crs(epsg=4326)\n",
    "    return by_hex"
   ]
  },
  {
   "cell_type": "code",
   "execution_count": null,
   "metadata": {},
   "outputs": [],
   "source": []
  }
 ],
 "metadata": {
  "kernelspec": {
   "display_name": "Python 3 (ipykernel)",
   "language": "python",
   "name": "python3"
  }
 },
 "nbformat": 4,
 "nbformat_minor": 4
}
