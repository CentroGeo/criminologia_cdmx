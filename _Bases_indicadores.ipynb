{
 "cells": [
  {
   "cell_type": "markdown",
   "id": "80f342e7-b473-4b45-8491-994c70b5242f",
   "metadata": {},
   "source": [
    "# Procesamiento de bases de indicadores\n",
    "\n",
    "Este notebook documenta el proceso para obtener las bases de indicadores.\n",
    "\n",
    "* Asociar datos del censo con cartografía de manzanas\n",
    "* Asignar ids de cuadrante y colonia a las manzanas\n",
    "* Agregar manzanas a la base de datos (GeoPackage)\n",
    "* Construcción de agregados de variables por unidades"
   ]
  },
  {
   "cell_type": "code",
   "execution_count": null,
   "id": "38203f0b-e5e6-41c0-b0e8-1a6b3bbe6f30",
   "metadata": {},
   "outputs": [],
   "source": [
    "import pandas as pd\n",
    "import geopandas as gpd\n",
    "from criminologia_cdmx. covariables import *\n",
    "import numpy as np\n",
    "import requests\n",
    "import xml.etree.ElementTree as ET\n",
    "import os\n",
    "from zipfile import ZipFile\n",
    "import shutil\n",
    "from pathlib import Path"
   ]
  },
  {
   "cell_type": "code",
   "execution_count": null,
   "id": "58606325-8836-41d0-90de-7140f84f2d24",
   "metadata": {},
   "outputs": [],
   "source": [
    "%load_ext autoreload\n",
    "%autoreload 2"
   ]
  },
  {
   "cell_type": "markdown",
   "id": "aa750580-e317-40a2-ad90-c8132f276d89",
   "metadata": {},
   "source": [
    "## Asociar manzanas y censo"
   ]
  },
  {
   "cell_type": "markdown",
   "id": "87c2414a-5d22-4c03-9ed6-e8b60f7b445c",
   "metadata": {},
   "source": [
    "### Leer y preprocesar manzanas"
   ]
  },
  {
   "cell_type": "code",
   "execution_count": null,
   "id": "c756294c-c647-4a73-9d73-d0c3f84d5675",
   "metadata": {},
   "outputs": [
    {
     "ename": "DriverError",
     "evalue": "'/vsizip/datos/descargas/manzanas_2020_cdmx.zip' does not exist in the file system, and is not recognized as a supported dataset name.",
     "output_type": "error",
     "traceback": [
      "\u001b[0;31m---------------------------------------------------------------------------\u001b[0m",
      "\u001b[0;31mCPLE_OpenFailedError\u001b[0m                      Traceback (most recent call last)",
      "File \u001b[0;32mfiona/_shim.pyx:83\u001b[0m, in \u001b[0;36mfiona._shim.gdal_open_vector\u001b[0;34m()\u001b[0m\n",
      "File \u001b[0;32mfiona/_err.pyx:291\u001b[0m, in \u001b[0;36mfiona._err.exc_wrap_pointer\u001b[0;34m()\u001b[0m\n",
      "\u001b[0;31mCPLE_OpenFailedError\u001b[0m: '/vsizip/datos/descargas/manzanas_2020_cdmx.zip' does not exist in the file system, and is not recognized as a supported dataset name.",
      "\nDuring handling of the above exception, another exception occurred:\n",
      "\u001b[0;31mDriverError\u001b[0m                               Traceback (most recent call last)",
      "Input \u001b[0;32mIn [3]\u001b[0m, in \u001b[0;36m<cell line: 1>\u001b[0;34m()\u001b[0m\n\u001b[0;32m----> 1\u001b[0m manzanas \u001b[38;5;241m=\u001b[39m \u001b[43mgpd\u001b[49m\u001b[38;5;241;43m.\u001b[39;49m\u001b[43mread_file\u001b[49m\u001b[43m(\u001b[49m\u001b[38;5;124;43m\"\u001b[39;49m\u001b[38;5;124;43mdatos/descargas/manzanas_2020_cdmx.zip\u001b[39;49m\u001b[38;5;124;43m\"\u001b[39;49m\u001b[43m)\u001b[49m\n\u001b[1;32m      2\u001b[0m \u001b[38;5;66;03m# Quitamos las columnas que forman la CVEGEO (las vamos a tener de los dtos del censo)\u001b[39;00m\n\u001b[1;32m      3\u001b[0m manzanas \u001b[38;5;241m=\u001b[39m manzanas\u001b[38;5;241m.\u001b[39mdrop(columns\u001b[38;5;241m=\u001b[39m[\u001b[38;5;124m'\u001b[39m\u001b[38;5;124mCVE_ENT\u001b[39m\u001b[38;5;124m'\u001b[39m, \u001b[38;5;124m'\u001b[39m\u001b[38;5;124mCVE_MUN\u001b[39m\u001b[38;5;124m'\u001b[39m,\t\u001b[38;5;124m'\u001b[39m\u001b[38;5;124mCVE_LOC\u001b[39m\u001b[38;5;124m'\u001b[39m, \u001b[38;5;124m'\u001b[39m\u001b[38;5;124mCVE_AGEB\u001b[39m\u001b[38;5;124m'\u001b[39m, \u001b[38;5;124m'\u001b[39m\u001b[38;5;124mCVE_MZA\u001b[39m\u001b[38;5;124m'\u001b[39m])\n",
      "File \u001b[0;32m~/miniconda3/envs/criminologia/lib/python3.10/site-packages/geopandas/io/file.py:253\u001b[0m, in \u001b[0;36m_read_file\u001b[0;34m(filename, bbox, mask, rows, engine, **kwargs)\u001b[0m\n\u001b[1;32m    250\u001b[0m     path_or_bytes \u001b[38;5;241m=\u001b[39m filename\n\u001b[1;32m    252\u001b[0m \u001b[38;5;28;01mif\u001b[39;00m engine \u001b[38;5;241m==\u001b[39m \u001b[38;5;124m\"\u001b[39m\u001b[38;5;124mfiona\u001b[39m\u001b[38;5;124m\"\u001b[39m:\n\u001b[0;32m--> 253\u001b[0m     \u001b[38;5;28;01mreturn\u001b[39;00m \u001b[43m_read_file_fiona\u001b[49m\u001b[43m(\u001b[49m\n\u001b[1;32m    254\u001b[0m \u001b[43m        \u001b[49m\u001b[43mpath_or_bytes\u001b[49m\u001b[43m,\u001b[49m\u001b[43m \u001b[49m\u001b[43mfrom_bytes\u001b[49m\u001b[43m,\u001b[49m\u001b[43m \u001b[49m\u001b[43mbbox\u001b[49m\u001b[38;5;241;43m=\u001b[39;49m\u001b[43mbbox\u001b[49m\u001b[43m,\u001b[49m\u001b[43m \u001b[49m\u001b[43mmask\u001b[49m\u001b[38;5;241;43m=\u001b[39;49m\u001b[43mmask\u001b[49m\u001b[43m,\u001b[49m\u001b[43m \u001b[49m\u001b[43mrows\u001b[49m\u001b[38;5;241;43m=\u001b[39;49m\u001b[43mrows\u001b[49m\u001b[43m,\u001b[49m\u001b[43m \u001b[49m\u001b[38;5;241;43m*\u001b[39;49m\u001b[38;5;241;43m*\u001b[39;49m\u001b[43mkwargs\u001b[49m\n\u001b[1;32m    255\u001b[0m \u001b[43m    \u001b[49m\u001b[43m)\u001b[49m\n\u001b[1;32m    256\u001b[0m \u001b[38;5;28;01melif\u001b[39;00m engine \u001b[38;5;241m==\u001b[39m \u001b[38;5;124m\"\u001b[39m\u001b[38;5;124mpyogrio\u001b[39m\u001b[38;5;124m\"\u001b[39m:\n\u001b[1;32m    257\u001b[0m     \u001b[38;5;28;01mreturn\u001b[39;00m _read_file_pyogrio(\n\u001b[1;32m    258\u001b[0m         path_or_bytes, bbox\u001b[38;5;241m=\u001b[39mbbox, mask\u001b[38;5;241m=\u001b[39mmask, rows\u001b[38;5;241m=\u001b[39mrows, \u001b[38;5;241m*\u001b[39m\u001b[38;5;241m*\u001b[39mkwargs\n\u001b[1;32m    259\u001b[0m     )\n",
      "File \u001b[0;32m~/miniconda3/envs/criminologia/lib/python3.10/site-packages/geopandas/io/file.py:294\u001b[0m, in \u001b[0;36m_read_file_fiona\u001b[0;34m(path_or_bytes, from_bytes, bbox, mask, rows, **kwargs)\u001b[0m\n\u001b[1;32m    291\u001b[0m     reader \u001b[38;5;241m=\u001b[39m fiona\u001b[38;5;241m.\u001b[39mopen\n\u001b[1;32m    293\u001b[0m \u001b[38;5;28;01mwith\u001b[39;00m fiona_env():\n\u001b[0;32m--> 294\u001b[0m     \u001b[38;5;28;01mwith\u001b[39;00m \u001b[43mreader\u001b[49m\u001b[43m(\u001b[49m\u001b[43mpath_or_bytes\u001b[49m\u001b[43m,\u001b[49m\u001b[43m \u001b[49m\u001b[38;5;241;43m*\u001b[39;49m\u001b[38;5;241;43m*\u001b[39;49m\u001b[43mkwargs\u001b[49m\u001b[43m)\u001b[49m \u001b[38;5;28;01mas\u001b[39;00m features:\n\u001b[1;32m    295\u001b[0m \n\u001b[1;32m    296\u001b[0m         \u001b[38;5;66;03m# In a future Fiona release the crs attribute of features will\u001b[39;00m\n\u001b[1;32m    297\u001b[0m         \u001b[38;5;66;03m# no longer be a dict, but will behave like a dict. So this should\u001b[39;00m\n\u001b[1;32m    298\u001b[0m         \u001b[38;5;66;03m# be forwards compatible\u001b[39;00m\n\u001b[1;32m    299\u001b[0m         crs \u001b[38;5;241m=\u001b[39m (\n\u001b[1;32m    300\u001b[0m             features\u001b[38;5;241m.\u001b[39mcrs[\u001b[38;5;124m\"\u001b[39m\u001b[38;5;124minit\u001b[39m\u001b[38;5;124m\"\u001b[39m]\n\u001b[1;32m    301\u001b[0m             \u001b[38;5;28;01mif\u001b[39;00m features\u001b[38;5;241m.\u001b[39mcrs \u001b[38;5;129;01mand\u001b[39;00m \u001b[38;5;124m\"\u001b[39m\u001b[38;5;124minit\u001b[39m\u001b[38;5;124m\"\u001b[39m \u001b[38;5;129;01min\u001b[39;00m features\u001b[38;5;241m.\u001b[39mcrs\n\u001b[1;32m    302\u001b[0m             \u001b[38;5;28;01melse\u001b[39;00m features\u001b[38;5;241m.\u001b[39mcrs_wkt\n\u001b[1;32m    303\u001b[0m         )\n\u001b[1;32m    305\u001b[0m         \u001b[38;5;66;03m# handle loading the bounding box\u001b[39;00m\n",
      "File \u001b[0;32m~/miniconda3/envs/criminologia/lib/python3.10/site-packages/fiona/env.py:408\u001b[0m, in \u001b[0;36mensure_env_with_credentials.<locals>.wrapper\u001b[0;34m(*args, **kwargs)\u001b[0m\n\u001b[1;32m    405\u001b[0m \u001b[38;5;129m@wraps\u001b[39m(f)\n\u001b[1;32m    406\u001b[0m \u001b[38;5;28;01mdef\u001b[39;00m \u001b[38;5;21mwrapper\u001b[39m(\u001b[38;5;241m*\u001b[39margs, \u001b[38;5;241m*\u001b[39m\u001b[38;5;241m*\u001b[39mkwargs):\n\u001b[1;32m    407\u001b[0m     \u001b[38;5;28;01mif\u001b[39;00m local\u001b[38;5;241m.\u001b[39m_env:\n\u001b[0;32m--> 408\u001b[0m         \u001b[38;5;28;01mreturn\u001b[39;00m \u001b[43mf\u001b[49m\u001b[43m(\u001b[49m\u001b[38;5;241;43m*\u001b[39;49m\u001b[43margs\u001b[49m\u001b[43m,\u001b[49m\u001b[43m \u001b[49m\u001b[38;5;241;43m*\u001b[39;49m\u001b[38;5;241;43m*\u001b[39;49m\u001b[43mkwargs\u001b[49m\u001b[43m)\u001b[49m\n\u001b[1;32m    409\u001b[0m     \u001b[38;5;28;01melse\u001b[39;00m:\n\u001b[1;32m    410\u001b[0m         \u001b[38;5;28;01mif\u001b[39;00m \u001b[38;5;28misinstance\u001b[39m(args[\u001b[38;5;241m0\u001b[39m], \u001b[38;5;28mstr\u001b[39m):\n",
      "File \u001b[0;32m~/miniconda3/envs/criminologia/lib/python3.10/site-packages/fiona/__init__.py:264\u001b[0m, in \u001b[0;36mopen\u001b[0;34m(fp, mode, driver, schema, crs, encoding, layer, vfs, enabled_drivers, crs_wkt, **kwargs)\u001b[0m\n\u001b[1;32m    261\u001b[0m     path \u001b[38;5;241m=\u001b[39m parse_path(fp)\n\u001b[1;32m    263\u001b[0m \u001b[38;5;28;01mif\u001b[39;00m mode \u001b[38;5;129;01min\u001b[39;00m (\u001b[38;5;124m'\u001b[39m\u001b[38;5;124ma\u001b[39m\u001b[38;5;124m'\u001b[39m, \u001b[38;5;124m'\u001b[39m\u001b[38;5;124mr\u001b[39m\u001b[38;5;124m'\u001b[39m):\n\u001b[0;32m--> 264\u001b[0m     c \u001b[38;5;241m=\u001b[39m \u001b[43mCollection\u001b[49m\u001b[43m(\u001b[49m\u001b[43mpath\u001b[49m\u001b[43m,\u001b[49m\u001b[43m \u001b[49m\u001b[43mmode\u001b[49m\u001b[43m,\u001b[49m\u001b[43m \u001b[49m\u001b[43mdriver\u001b[49m\u001b[38;5;241;43m=\u001b[39;49m\u001b[43mdriver\u001b[49m\u001b[43m,\u001b[49m\u001b[43m \u001b[49m\u001b[43mencoding\u001b[49m\u001b[38;5;241;43m=\u001b[39;49m\u001b[43mencoding\u001b[49m\u001b[43m,\u001b[49m\n\u001b[1;32m    265\u001b[0m \u001b[43m                   \u001b[49m\u001b[43mlayer\u001b[49m\u001b[38;5;241;43m=\u001b[39;49m\u001b[43mlayer\u001b[49m\u001b[43m,\u001b[49m\u001b[43m \u001b[49m\u001b[43menabled_drivers\u001b[49m\u001b[38;5;241;43m=\u001b[39;49m\u001b[43menabled_drivers\u001b[49m\u001b[43m,\u001b[49m\u001b[43m \u001b[49m\u001b[38;5;241;43m*\u001b[39;49m\u001b[38;5;241;43m*\u001b[39;49m\u001b[43mkwargs\u001b[49m\u001b[43m)\u001b[49m\n\u001b[1;32m    266\u001b[0m \u001b[38;5;28;01melif\u001b[39;00m mode \u001b[38;5;241m==\u001b[39m \u001b[38;5;124m'\u001b[39m\u001b[38;5;124mw\u001b[39m\u001b[38;5;124m'\u001b[39m:\n\u001b[1;32m    267\u001b[0m     \u001b[38;5;28;01mif\u001b[39;00m schema:\n\u001b[1;32m    268\u001b[0m         \u001b[38;5;66;03m# Make an ordered dict of schema properties.\u001b[39;00m\n",
      "File \u001b[0;32m~/miniconda3/envs/criminologia/lib/python3.10/site-packages/fiona/collection.py:162\u001b[0m, in \u001b[0;36mCollection.__init__\u001b[0;34m(self, path, mode, driver, schema, crs, encoding, layer, vsi, archive, enabled_drivers, crs_wkt, ignore_fields, ignore_geometry, **kwargs)\u001b[0m\n\u001b[1;32m    160\u001b[0m \u001b[38;5;28;01mif\u001b[39;00m \u001b[38;5;28mself\u001b[39m\u001b[38;5;241m.\u001b[39mmode \u001b[38;5;241m==\u001b[39m \u001b[38;5;124m'\u001b[39m\u001b[38;5;124mr\u001b[39m\u001b[38;5;124m'\u001b[39m:\n\u001b[1;32m    161\u001b[0m     \u001b[38;5;28mself\u001b[39m\u001b[38;5;241m.\u001b[39msession \u001b[38;5;241m=\u001b[39m Session()\n\u001b[0;32m--> 162\u001b[0m     \u001b[38;5;28;43mself\u001b[39;49m\u001b[38;5;241;43m.\u001b[39;49m\u001b[43msession\u001b[49m\u001b[38;5;241;43m.\u001b[39;49m\u001b[43mstart\u001b[49m\u001b[43m(\u001b[49m\u001b[38;5;28;43mself\u001b[39;49m\u001b[43m,\u001b[49m\u001b[43m \u001b[49m\u001b[38;5;241;43m*\u001b[39;49m\u001b[38;5;241;43m*\u001b[39;49m\u001b[43mkwargs\u001b[49m\u001b[43m)\u001b[49m\n\u001b[1;32m    163\u001b[0m \u001b[38;5;28;01melif\u001b[39;00m \u001b[38;5;28mself\u001b[39m\u001b[38;5;241m.\u001b[39mmode \u001b[38;5;129;01min\u001b[39;00m (\u001b[38;5;124m'\u001b[39m\u001b[38;5;124ma\u001b[39m\u001b[38;5;124m'\u001b[39m, \u001b[38;5;124m'\u001b[39m\u001b[38;5;124mw\u001b[39m\u001b[38;5;124m'\u001b[39m):\n\u001b[1;32m    164\u001b[0m     \u001b[38;5;28mself\u001b[39m\u001b[38;5;241m.\u001b[39msession \u001b[38;5;241m=\u001b[39m WritingSession()\n",
      "File \u001b[0;32mfiona/ogrext.pyx:540\u001b[0m, in \u001b[0;36mfiona.ogrext.Session.start\u001b[0;34m()\u001b[0m\n",
      "File \u001b[0;32mfiona/_shim.pyx:90\u001b[0m, in \u001b[0;36mfiona._shim.gdal_open_vector\u001b[0;34m()\u001b[0m\n",
      "\u001b[0;31mDriverError\u001b[0m: '/vsizip/datos/descargas/manzanas_2020_cdmx.zip' does not exist in the file system, and is not recognized as a supported dataset name."
     ]
    }
   ],
   "source": [
    "manzanas = gpd.read_file(\"datos/descargas/manzanas_2020_cdmx.zip\")\n",
    "# Quitamos las columnas que forman la CVEGEO (las vamos a tener de los dtos del censo)\n",
    "manzanas = manzanas.drop(columns=['CVE_ENT', 'CVE_MUN',\t'CVE_LOC', 'CVE_AGEB', 'CVE_MZA'])\n",
    "manzanas.head()"
   ]
  },
  {
   "cell_type": "markdown",
   "id": "bd946706-7675-4ef1-a555-2d62dc5d0b2c",
   "metadata": {},
   "source": [
    "### Leer y preprocesar censo"
   ]
  },
  {
   "cell_type": "code",
   "execution_count": null,
   "id": "81daad62-8430-44d9-a2bc-812b5dad581f",
   "metadata": {},
   "outputs": [],
   "source": [
    "censo = pd.read_csv(\"datos/descargas/conjunto_de_datos_ageb_urbana_09_cpv2020.zip\", \n",
    "                    dtype={\"ENTIDAD\":str, \"MUN\": str, \"LOC\":str, \"AGEB\":str, \"MZA\": str})\n",
    "# Nos quedamos sólo con las filas que tienen datos de manzanas (no localidad, agebs, etc)\n",
    "censo = censo.loc[censo['MZA'] != '000']\n",
    "# Construimos la cvegeo de las manzanas\n",
    "censo['CVEGEO'] = censo['ENTIDAD'] + censo['MUN'] + censo['LOC'] + censo['AGEB'] + censo['MZA']\n",
    "censo.head()"
   ]
  },
  {
   "cell_type": "markdown",
   "id": "e2f7cfc9-d6ee-45b5-b6db-9ed10c26866f",
   "metadata": {},
   "source": [
    "### Asociar manzanas con censo"
   ]
  },
  {
   "cell_type": "code",
   "execution_count": null,
   "id": "f0a5083c-9b1d-41be-8754-7dec48613494",
   "metadata": {},
   "outputs": [],
   "source": [
    "# Asociamos con join izquierdo porque no nos interesan las manzanas sin datos\n",
    "manzanas = manzanas.merge(censo, on='CVEGEO', how='left')\n",
    "manzanas.head()"
   ]
  },
  {
   "cell_type": "markdown",
   "id": "cab27f8a-0fe1-45be-be12-f7e6da2192fa",
   "metadata": {},
   "source": [
    "## Identificadores de colonia y cuadrante"
   ]
  },
  {
   "cell_type": "code",
   "execution_count": null,
   "id": "3858615c-18e3-46d2-9131-921888a4d65d",
   "metadata": {},
   "outputs": [],
   "source": [
    "# Leemos las geometrías de colonias y cuadrantes\n",
    "colonias = gpd.read_file(\"datos/criminologia_capas.gpkg\", layer='colonias')\n",
    "cuadrantes = gpd.read_file(\"datos/criminologia_capas.gpkg\", layer='cuadrantes')\n",
    "# Extraemos puntos al interior de las manzanas\n",
    "puntos_manzanas = manzanas.loc[:, ['CVEGEO', 'geometry']]\n",
    "puntos_manzanas['geometry'] = puntos_manzanas['geometry'].representative_point()\n",
    "# Unimos los puntos con las geometrías de cuadrantes y colonias\n",
    "puntos_manzanas = (gpd\n",
    "                   .sjoin(puntos_manzanas, colonias.to_crs(puntos_manzanas.crs)[['geometry', 'colonia_cve']], how='left')\n",
    "                   .drop(columns='index_right'))\n",
    "puntos_manzanas['colonia_cve'] = puntos_manzanas['colonia_cve'].astype('Int64')\n",
    "puntos_manzanas = (gpd\n",
    "                   .sjoin(puntos_manzanas, cuadrantes.to_crs(puntos_manzanas.crs)[['geometry', 'cuadrante_id']], how='left')\n",
    "                   .drop(columns='index_right'))\n",
    "# Unimos de regreso a las manzanas\n",
    "manzanas = manzanas.merge(puntos_manzanas[['CVEGEO', 'colonia_cve', 'cuadrante_id']], on='CVEGEO', how='left')\n",
    "manzanas[['CVEGEO', 'colonia_cve', 'cuadrante_id']]"
   ]
  },
  {
   "cell_type": "markdown",
   "id": "60a8ed45",
   "metadata": {},
   "source": [
    "Guardamos la capa con las relaciones"
   ]
  },
  {
   "cell_type": "code",
   "execution_count": null,
   "id": "ecb66324",
   "metadata": {},
   "outputs": [],
   "source": [
    "manzanas[['CVEGEO','ENTIDAD', 'MUN', 'LOC', 'AGEB', 'MZA',\n",
    "          'AMBITO', 'TIPOMZA', 'colonia_cve', 'cuadrante_id', 'geometry']].to_file(\"datos/descargas/manzanas_identificadores.gpkg\", layer='manzanas', driver=\"GPKG\")"
   ]
  },
  {
   "cell_type": "markdown",
   "id": "8cc3a187-6954-4ea2-8541-e355efb31097",
   "metadata": {},
   "source": [
    "## Tipos de datos\n",
    "\n",
    "* Codificar bien los Nan\n",
    "* Utilizar tipos de datos adecuados"
   ]
  },
  {
   "cell_type": "code",
   "execution_count": null,
   "id": "7818ee03-2c11-4b21-bf2c-648c82deb6c1",
   "metadata": {},
   "outputs": [],
   "source": [
    "diccionario = get_diccionario_censo()\n",
    "# Codificamos los Nan\n",
    "manzanas = manzanas.replace('999999999', np.nan) \n",
    "manzanas = manzanas.replace('99999999', np.nan)\n",
    "manzanas = manzanas.replace('*', np.nan)\n",
    "manzanas = manzanas.replace('N/D', np.nan)\n",
    "# Cambiamos los tipos de datos\n",
    "campos_datos = diccionario['Nombre del Campo'].unique()\n",
    "manzanas[campos_datos] = manzanas[campos_datos].astype('float')\n",
    "manzanas.dtypes"
   ]
  },
  {
   "cell_type": "markdown",
   "id": "00a6b66d-8b92-4fe7-9fdc-38ddfc2753c2",
   "metadata": {},
   "source": [
    "### Guardarlos datos\n",
    "\n",
    "El archivo es muy grande, vamos a guardar los datos por separado, en un archivo las geometrías de las manzanas y en otro las variables del censo"
   ]
  },
  {
   "cell_type": "code",
   "execution_count": null,
   "id": "ff951ffa-edcc-4976-bb97-41e606e38058",
   "metadata": {},
   "outputs": [],
   "source": [
    "manzanas.drop(columns=['geometry', 'ENTIDAD', 'NOM_ENT', \n",
    "                       'MUN', 'NOM_MUN', 'LOC', 'NOM_LOC', \n",
    "                       'AGEB', 'MZA']).to_csv(\"datos/censo_manzanas.zip\", index=False)"
   ]
  },
  {
   "cell_type": "markdown",
   "id": "2a679ba5-43ab-49b6-a43e-1976cc6e4099",
   "metadata": {},
   "source": [
    "La capa de manzanas la vamos a guardar sólo con la geometría y CVEGEO"
   ]
  },
  {
   "cell_type": "code",
   "execution_count": null,
   "id": "309372c1-f93a-4fee-888f-88534b7e94bc",
   "metadata": {},
   "outputs": [],
   "source": [
    "manzanas[['geometry', 'CVEGEO']].to_file(\"datos/descargas/covariables.gpkg\", layer='manzanas', driver=\"GPKG\")"
   ]
  },
  {
   "cell_type": "markdown",
   "id": "c75bb1a8-9acf-4b26-9e2c-e99d58d02c42",
   "metadata": {},
   "source": [
    "## Uso de suelo\n",
    "\n",
    "Dentro de las covariables también podemos usar datos de uso de suelo y estructura urbana, por lo pronto tenemos:\n",
    "\n",
    "**Usos de Suelo**\n",
    "* comercio\n",
    "* industria\n",
    "* servicios\n",
    "\n",
    "**Estructura urbana**\n",
    "* intensidad: la suma de los usos de suelo\n",
    "* entropia: la mezcla\n",
    "\n",
    "Todas estas variables salen del DENUE. Segúramente no son las ideales en este momento para el análisis delictivo, más adelante iremos incorporando otras.\n",
    "\n",
    "Todos los conteos están calculados por manzana, pero para calcular mezcals de uso de suelo no es la mejor unidad porque es posible que se capture demasiado ruido, más adelante habría que hacer algún tipo de suavizado espacial."
   ]
  },
  {
   "cell_type": "code",
   "execution_count": null,
   "id": "a75aa1a6-b8b6-4717-8340-a5f4f5bc73cb",
   "metadata": {},
   "outputs": [],
   "source": [
    "# Bajamos y leemos los datos\n",
    "entropia_url = \"https://www.dropbox.com/s/mke0xlxj832yrbz/MANZANAS_2020_ENTROPIA_MEXICO_PAIS.zip?dl=1\"\n",
    "r = requests.get(entropia_url, allow_redirects=True)\n",
    "open(\"datos/descargas/\" + 'entropia.zip', 'wb').write(r.content)\n",
    "entropia = gpd.read_file(\"datos/descargas/entropia.zip\")\n",
    "entropia.head()"
   ]
  },
  {
   "cell_type": "markdown",
   "id": "d26ea8c7-89c1-4b0f-8a52-17c126aa4da8",
   "metadata": {},
   "source": [
    "Extraemos sólo CDMX"
   ]
  },
  {
   "cell_type": "code",
   "execution_count": null,
   "id": "7bc1904d-b67f-4295-984d-2ce4d2801f3c",
   "metadata": {},
   "outputs": [],
   "source": [
    "entropia = entropia.loc[entropia['CVEGEO'].str.slice(0,2) == '09']\n",
    "entropia"
   ]
  },
  {
   "cell_type": "markdown",
   "id": "18427c6e-d6c2-444a-a9da-ae6ca6572c46",
   "metadata": {},
   "source": [
    "Unimos a los identificadores de cuadrante y colonia. De los datos de arriba sólo queremos realmente los conteos `Sum_I`, `Sum_C` y `Sum_S`, las demás variables hay que recalcularlas."
   ]
  },
  {
   "cell_type": "code",
   "execution_count": null,
   "id": "a565da08-6d6c-41e3-877d-c7ea8ea218ec",
   "metadata": {},
   "outputs": [],
   "source": [
    "entropia = entropia[['CVEGEO', 'Sum_I', 'Sum_C', 'Sum_S']]\n",
    "entropia = (manzanas[['CVEGEO', 'colonia_cve', 'cuadrante_id']]\n",
    "            .merge(entropia, on='CVEGEO')\n",
    "            .rename({'Sum_I':'Industria', 'Sum_C': 'Comercio', 'Sum_S':'Servicios'}, axis=1))\n",
    "entropia"
   ]
  },
  {
   "cell_type": "code",
   "execution_count": null,
   "id": "5186444d-b8ab-4102-a64c-5bd747c251b7",
   "metadata": {},
   "outputs": [],
   "source": [
    "entropia.to_csv(\"datos/usos_suelo.csv\", index=False)"
   ]
  },
  {
   "cell_type": "markdown",
   "id": "aa3ce7fc-13cb-497b-9f7e-6eb01d77e830",
   "metadata": {},
   "source": [
    "## Datos 911\n",
    "\n",
    "Los datos de llamadas del 911 se encuentran disponibles en la página de datos abiertos de la CDMX. Hay un archivo por cada semestre desde 2019.\n",
    "\n",
    "Por lo pronto, en lugar de proveer funciones como para carpetas y víctimas vamos a procesar un único archivo.\n",
    "\n",
    "A continuación vamos a abrir un archivo csv que integra todos los concentrados semestrales sin ningún otro procesamiento."
   ]
  },
  {
   "cell_type": "code",
   "execution_count": null,
   "id": "3935073f-dd3e-4df8-93b4-cf947797fb86",
   "metadata": {},
   "outputs": [],
   "source": [
    "datos_911 = pd.read_csv(\"datos/descargas/911_19-21_unidas.csv.zip\", dtype=object)\n",
    "datos_911.head()"
   ]
  },
  {
   "cell_type": "markdown",
   "id": "dc1cb5a5-9bee-4c4d-b19d-4af21a6d213c",
   "metadata": {},
   "source": [
    "Lo primero que vamos a hacer es elimirar columnas repetidas y la columna geometry."
   ]
  },
  {
   "cell_type": "code",
   "execution_count": null,
   "id": "d6ef3d4d-21c1-4905-9523-37482733404e",
   "metadata": {},
   "outputs": [],
   "source": [
    "datos_911 = datos_911.drop(columns=['aÃ±o_creacion', 'aÃ±o_cierre', \n",
    "                                    'aħo_creacion', 'aħo_cierre',\n",
    "                                    'geometry'])\n",
    "datos_911.head()"
   ]
  },
  {
   "cell_type": "markdown",
   "id": "d36788c1-4695-41d4-afbd-c51019d14173",
   "metadata": {},
   "source": [
    "Ahora vamos a crear una columna de geometría a partir de las latitudes y longitudes, pero antes vamos a ver cuántos registros tenemos para ver cuántos perdemos en el proceso "
   ]
  },
  {
   "cell_type": "code",
   "execution_count": null,
   "id": "efd2e5e7-9e4e-4dc8-b031-7f68ad7474d2",
   "metadata": {},
   "outputs": [],
   "source": [
    "print( \"El número original de registros es %s\"%(datos_911.shape[0]))"
   ]
  },
  {
   "cell_type": "code",
   "execution_count": null,
   "id": "0815534f-126b-4557-a6d7-4ae814483387",
   "metadata": {},
   "outputs": [],
   "source": [
    "datos_911.replace('NA', np.nan, inplace=True)\n",
    "datos_911.dropna(subset=['longitud_centroide', 'latitud_centroide'], how='any', inplace=True)\n",
    "print( \"El número de registros limpios es %s\"%(datos_911.shape[0]))"
   ]
  },
  {
   "cell_type": "markdown",
   "id": "333911a6-aed4-44e5-a56d-692c6f473447",
   "metadata": {},
   "source": [
    "Parece que no perdimos ningún registro. Vamos a crear la columna de geometría."
   ]
  },
  {
   "cell_type": "code",
   "execution_count": null,
   "id": "b00117d7-be06-4378-b904-c6c1995fadf8",
   "metadata": {},
   "outputs": [],
   "source": [
    "datos_911 = gpd.GeoDataFrame(datos_911, \n",
    "                             geometry=gpd.points_from_xy(datos_911.longitud_centroide, \n",
    "                                                         datos_911.latitud_centroide))\n",
    "datos_911 = datos_911.set_crs(epsg=4326)\n",
    "datos_911.plot()"
   ]
  },
  {
   "cell_type": "code",
   "execution_count": null,
   "id": "a7668632-4c58-42ae-814a-e628208c352c",
   "metadata": {},
   "outputs": [],
   "source": [
    "datos_911.to_file(\"datos/descargas/datos_911.gpkg\", layer='incidentes',driver=\"GPKG\")"
   ]
  },
  {
   "cell_type": "markdown",
   "id": "00dfa8c4-fb96-4573-95ba-46640dcc47ee",
   "metadata": {},
   "source": [
    "De acuerdo a la documentación la columna manzana contiene el identficador de la manzana del incidente en las bases de INEGI. Unamos las bases de manzanas con las de incidentes para verificar"
   ]
  },
  {
   "cell_type": "code",
   "execution_count": null,
   "id": "a07d62e7-b407-4cc8-a56f-81428b2ce440",
   "metadata": {},
   "outputs": [],
   "source": [
    "manzanas = gpd.read_file(\"datos/descargas/manzanas_identificadores.gpkg\")\n",
    "# unidos = datos_911.merge(manzanas, left_on='manzana', right_on='CVEGEO')\n",
    "# print( \"Hay %s registros en la union \"%(unidos.shape[0]))"
   ]
  },
  {
   "cell_type": "code",
   "execution_count": null,
   "id": "0948312f-060f-420d-9fbb-5d1b7ee0903a",
   "metadata": {},
   "outputs": [],
   "source": [
    "manzanas"
   ]
  },
  {
   "cell_type": "markdown",
   "id": "eb97fab9-1790-45e3-add6-1cc110ba4fa2",
   "metadata": {},
   "source": [
    "Estamos perdiendo muchos registros, puede ser que no estén bien las claves (¿corresponden a diferentes años?).\n",
    "\n",
    "Entonces mejor hagamos una unión por centroides."
   ]
  },
  {
   "cell_type": "code",
   "execution_count": null,
   "id": "5a2de6e0-f3cb-425b-8173-b53264d761b1",
   "metadata": {},
   "outputs": [],
   "source": [
    "unidos = (datos_911.sjoin(manzanas[['colonia_cve', \n",
    "                                  'cuadrante_id', 'geometry']].to_crs(datos_911.crs))\n",
    "         .drop(columns='index_right'))\n",
    "print( \"Hay %s registros en la union espacial\"%(unidos.shape[0]))"
   ]
  },
  {
   "cell_type": "markdown",
   "id": "1a2673f3-b31c-42cd-97ca-0883fa22da5e",
   "metadata": {},
   "source": [
    "De todas formas se pierden registros, pero muchos menos, entonces vamos mejor a usar esta forma de unir."
   ]
  },
  {
   "cell_type": "markdown",
   "id": "9eaa4f02-31c5-44e1-9d88-5ce5d0b3922b",
   "metadata": {},
   "source": [
    "Hasta aquí ya tenemos la base del 911 con identificadores de manzanas, colonias y cuadrantes. Sólo falta entonces procesar las fechas"
   ]
  },
  {
   "cell_type": "code",
   "execution_count": null,
   "id": "57fd3233-e32b-458e-aab1-ab5770b3cfd2",
   "metadata": {},
   "outputs": [],
   "source": [
    "unidos['fecha_creacion'] = pd.to_datetime(unidos['fecha_creacion'], dayfirst=True)\n",
    "unidos['fecha_creacion']"
   ]
  },
  {
   "cell_type": "markdown",
   "id": "98c0069d-de28-4274-b57c-e7b0721a085c",
   "metadata": {},
   "source": [
    "Esta base ya está lista para usarse en la librería, la vamos a guardar comp pickle para recuperarla fácil"
   ]
  },
  {
   "cell_type": "code",
   "execution_count": null,
   "id": "92771d80-ae44-4b50-a6d4-3b2e7d955474",
   "metadata": {},
   "outputs": [],
   "source": [
    "unidos.to_pickle(\"datos/descargas/incidentes_911.pkl\")"
   ]
  },
  {
   "cell_type": "code",
   "execution_count": null,
   "id": "6e28ca65-47e9-48ee-93a1-0eea33db1211",
   "metadata": {},
   "outputs": [],
   "source": [
    "unidos = pd.read_pickle(\"datos/descargas/incidentes_911.pkl\")\n",
    "type(unidos)"
   ]
  },
  {
   "cell_type": "markdown",
   "id": "10bf443d-8723-4f16-a49c-179899e9bc73",
   "metadata": {},
   "source": [
    "## Bases del DENUE\n",
    "\n",
    "Para construir indicadores de uso de suelo vamos a incorporar las bases históricas del DENUE. El primer paso es descargarlas **todas** del sitio del INEGI. El sitio provee una herramienta para descrgar todos los datos usando Windows, para descargarlos desde Python, vamos a utilizar el XML que viene con dicha herramienta, este XML contiene las urls de todos los archivos que vamos a descargar, entonces el primer punto es _parsear_ el XML"
   ]
  },
  {
   "cell_type": "code",
   "execution_count": null,
   "id": "da8db50b-0069-4a76-b81d-296c9833781d",
   "metadata": {},
   "outputs": [],
   "source": [
    "DOWNLOADS_PATH = \"datos/descargas/denue/\"\n",
    "tree = ET.parse(\"datos/descargas/DescargaMasivaOD.xml\")\n",
    "root = tree.getroot()\n",
    "datos = []\n",
    "for archivo in root.iter('Archivo'):\n",
    "    s = archivo.text\n",
    "    tipo = s.rsplit(\"/\")[-1].split(\".\")[-2].split(\"_\")[-1]\n",
    "    if tipo == 'shp' and (s.rsplit(\"/\")[-2].split(\"_\")[0] not in ['denue', 'esenciales']):\n",
    "        url = archivo.text\n",
    "        year = archivo.text.rsplit(\"/\")[-2].split(\"_\")[0]\n",
    "        fname = s.rsplit(\"/\")[-1]\n",
    "        if os.path.exists(DOWNLOADS_PATH + fname):\n",
    "            pass\n",
    "        else:\n",
    "            r = requests.get(url, allow_redirects=True)\n",
    "            open(DOWNLOADS_PATH + fname, 'wb').write(r.content)\n",
    "        try:\n",
    "            gdf = gpd.read_file(DOWNLOADS_PATH + fname)\n",
    "        except:\n",
    "            zf = ZipFile('datos/descargas/denue/denue_00_11_0116_shp.zip')\n",
    "            for f in zf.namelist():\n",
    "                zinfo = zf.getinfo(f)\n",
    "                if (zinfo.is_dir()):\n",
    "                    if f.split(\"/\")[-2] == 'conjunto_de_datos':\n",
    "                        shps = [n for n in zf.namelist() if (n.startswith(f) and not n.endswith('/'))]\n",
    "                        for s in shps:\n",
    "                            basename = os.path.basename(s)\n",
    "                            source = zf.open(s)\n",
    "                            target = open(os.path.join('datos/descargas/denue/extracted/', basename), 'wb')\n",
    "                            with source, target:\n",
    "                                shutil.copyfileobj(source, target)\n",
    "            gdf = gpd.read_file(os.path.join('datos/descargas/denue/extracted/', basename.split(\".\")[0] + '.shp'))\n",
    "            [f.unlink() for f in Path('datos/descargas/denue/extracted/').glob(\"*\") if f.is_file()] \n",
    "            \n",
    "        campos = ['nom_estab', 'raz_social', 'codigo_act', 'nombre_act', \n",
    "                  'per_ocu', 'tipoCenCom', 'cve_ent', 'cve_mun', 'cve_loc', \n",
    "                  'ageb', 'manzana', 'geometry']\n",
    "        gdf = gdf.loc[:,campos]\n",
    "        gdf['cvegeo'] = gdf['cve_ent'] + gdf['cve_mun'] + gdf['cve_loc'] + gdf['ageb'] + gdf['manzana']\n",
    "        gdf['year'] = year\n",
    "        datos.append(gdf)\n",
    "        \n",
    "denue_total = pd.concat(datos)\n",
    "denue_total.head()"
   ]
  },
  {
   "cell_type": "code",
   "execution_count": null,
   "id": "2e1f6339-4b51-49e8-9b91-efb7aede9caa",
   "metadata": {},
   "outputs": [],
   "source": [
    "denue_total.loc[denue_total.cve_ent == '09'].to_file(\"datos/salidas/denue_cdmx.shp\")"
   ]
  },
  {
   "cell_type": "code",
   "execution_count": null,
   "id": "5314e374-836e-474c-9bd7-7f7ddc7b592d",
   "metadata": {},
   "outputs": [],
   "source": [
    "denue_total.columns"
   ]
  },
  {
   "cell_type": "code",
   "execution_count": null,
   "id": "bd142b2f-8a86-4d35-bb96-cde4516dac6d",
   "metadata": {},
   "outputs": [],
   "source": [
    "datos[0].plot()"
   ]
  },
  {
   "cell_type": "code",
   "execution_count": null,
   "id": "a5658851-e9e7-466c-9d1b-6d86083ff329",
   "metadata": {},
   "outputs": [],
   "source": []
  }
 ],
 "metadata": {
  "kernelspec": {
   "display_name": "Python 3 (ipykernel)",
   "language": "python",
   "name": "python3"
  }
 },
 "nbformat": 4,
 "nbformat_minor": 5
}
